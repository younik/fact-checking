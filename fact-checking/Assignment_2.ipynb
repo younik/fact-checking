{
  "nbformat": 4,
  "nbformat_minor": 0,
  "metadata": {
    "colab": {
      "name": "Assignment_2.ipynb",
      "provenance": []
    },
    "kernelspec": {
      "name": "python3",
      "display_name": "Python 3"
    }
  },
  "cells": [
    {
      "cell_type": "markdown",
      "metadata": {
        "id": "3GM9DBN-Qz3k"
      },
      "source": [
        "# Assignment 2\n",
        "\n",
        "**Due to**: 23/12/2021 (dd/mm/yyyy)\n",
        "\n",
        "**Credits**: Andrea Galassi, Federico Ruggeri, Paolo Torroni\n",
        "\n",
        "**Summary**: Fact checking, Neural Languange Inference (**NLI**)"
      ]
    },
    {
      "cell_type": "markdown",
      "metadata": {
        "id": "tO_-4CZeRCO7"
      },
      "source": [
        "# Intro\n",
        "\n",
        "This assignment is centred on a particular and emerging NLP task, formally known as **fact checking** (or fake checking). As AI techniques become more and more powerful, reaching amazing results, such as image and text generation, it is more than ever necessary to build tools able to distinguish what is real from what is fake.\n",
        "\n",
        "Here we focus on a small portion of the whole fact checking problem, which aims to determine whether a given statement (fact) conveys a trustworthy information or not. \n",
        "\n",
        "More precisely, given a set of evidences and a fact to verify, we would like our model to correctly predict whether the fact is true or fake.\n",
        "\n",
        "In particular, we will see:\n",
        "\n",
        "*   Dataset preparation (analysis and pre-processing)\n",
        "*   Problem formulation: multi-input binary classification\n",
        "*   Defining an evaluation method\n",
        "*   Simple sentence embedding\n",
        "*   Neural building blocks\n",
        "*   Neural architecture extension"
      ]
    },
    {
      "cell_type": "markdown",
      "metadata": {
        "id": "hGDwg78PS_uy"
      },
      "source": [
        "# The FEVER dataset\n",
        "\n",
        "First of all, we need to choose a dataset. In this assignment we will rely on the [FEVER dataset](https://fever.ai).\n",
        "\n",
        "The dataset is about facts taken from Wikipedia documents that have to be verified. In particular, facts could face manual modifications in order to define fake information or to give different formulations of the same concept.\n",
        "\n",
        "The dataset consists of 185,445 claims manually verified against the introductory sections of Wikipedia pages and classified as ```Supported```, ```Refuted``` or ```NotEnoughInfo```. For the first two classes, systems and annotators need to also return the combination of sentences forming the necessary evidence supporting or refuting the claim."
      ]
    },
    {
      "cell_type": "markdown",
      "metadata": {
        "id": "4Oa5FpVpT7p4"
      },
      "source": [
        "## 2.1 Dataset structure\n",
        "\n",
        "Relevant data is divided into two file types. Information concerning the fact to verify, its verdict and associated supporting/opposing statements are stored in **.jsonl** format. In particular, each JSON element is a python dictionary with the following relevant fields:\n",
        "\n",
        "*    **ID**: ID associated to the fact to verify.\n",
        "\n",
        "*    **Verifiable**: whether the fact has been verified or not: ```VERIFIABLE``` or ```NOT VERIFIABLE```.\n",
        "    \n",
        "*    **Label**: the final verdict on the fact to verify: ```SUPPORTS```, ```REFUTES``` or ```NOT ENOUGH INFO```.\n",
        "    \n",
        "*    **Claim**: the fact to verify.\n",
        "    \n",
        "*    **Evidence**: a nested list of document IDs along with the sentence ID that is associated to the fact to verify. In particular, each list element is a tuple of four elements: the first two are internal annotator IDs that can be safely ignored; the third term is the document ID (called URL) and the last one is the sentence number (ID) in the pointed document to consider.\n",
        "\n",
        "**Some Examples**\n",
        "\n",
        "---\n",
        "\n",
        "**Verifiable**\n",
        "\n",
        "```\n",
        "{\"id\": 202314, \"verifiable\": \"VERIFIABLE\", \"label\": \"REFUTES\", \"claim\": \"The New Jersey Turnpike has zero shoulders.\", \"evidence\": [[[238335, 240393, \"New_Jersey_Turnpike\", 15]]]}\n",
        "```\n",
        "\n",
        "---\n",
        "\n",
        "**Not Verifiable**\n",
        "\n",
        "```\n",
        "{\"id\": 113501, \"verifiable\": \"NOT VERIFIABLE\", \"label\": \"NOT ENOUGH INFO\", \"claim\": \"Grease had bad reviews.\", \"evidence\": [[[133128, null, null, null]]]}\n",
        "```\n",
        "\n",
        "---"
      ]
    },
    {
      "cell_type": "markdown",
      "metadata": {
        "id": "nex_8UM4VWuY"
      },
      "source": [
        "## 2.2 Some simplifications and pre-processing\n",
        "\n",
        "We are only interested in verifiable facts. Thus, we can filter out all non-verifiable claims.\n",
        "\n",
        "Additionally, the current dataset format does not contain all necessary information for our classification purposes. In particular, we need to download Wikipedia documents and replace reported evidence IDs with the corresponding text.\n",
        "\n",
        "Don't worry about that! We are providing you the already pre-processed dataset so that you can concentrate on the classification pipeline (pre-processing, model definition, evaluation and training).\n",
        "\n",
        "You can download the zip file containing all set splits (train, validation and test) of the FEVER dataset by clicking on this [link](https://drive.google.com/file/d/1wArZhF9_SHW17WKNGeLmX-QTYw9Zscl1/view?usp=sharing). Alternatively, run the below code cell to automatically download it on this notebook.\n",
        "\n",
        "**Note**: each dataset split is in .csv format. Feel free to inspect the whole dataset!"
      ]
    },
    {
      "cell_type": "code",
      "metadata": {
        "id": "BspxZcRjW0NG",
        "outputId": "17b3fa97-bfbe-4d74-c6f5-966fd1dac84f",
        "colab": {
          "base_uri": "https://localhost:8080/"
        }
      },
      "source": [
        "import os\n",
        "import requests\n",
        "import zipfile\n",
        "\n",
        "def save_response_content(response, destination):\n",
        "    CHUNK_SIZE = 32768\n",
        "\n",
        "    with open(destination, \"wb\") as f:\n",
        "        for chunk in response.iter_content(CHUNK_SIZE):\n",
        "            if chunk: # filter out keep-alive new chunks\n",
        "                f.write(chunk)\n",
        "\n",
        "def download_data(data_path):\n",
        "    toy_data_path = os.path.join(data_path, 'fever_data.zip')\n",
        "    toy_data_url_id = \"1wArZhF9_SHW17WKNGeLmX-QTYw9Zscl1\"\n",
        "    toy_url = \"https://docs.google.com/uc?export=download\"\n",
        "\n",
        "    if not os.path.exists(data_path):\n",
        "        os.makedirs(data_path)\n",
        "\n",
        "    if not os.path.exists(toy_data_path):\n",
        "        print(\"Downloading FEVER data splits...\")\n",
        "        with requests.Session() as current_session:\n",
        "            response = current_session.get(toy_url,\n",
        "                                   params={'id': toy_data_url_id},\n",
        "                                   stream=True)\n",
        "        save_response_content(response, toy_data_path)\n",
        "        print(\"Download completed!\")\n",
        "\n",
        "        print(\"Extracting dataset...\")\n",
        "        with zipfile.ZipFile(toy_data_path) as loaded_zip:\n",
        "            loaded_zip.extractall(data_path)\n",
        "        print(\"Extraction completed!\")\n",
        "\n",
        "download_data('dataset')"
      ],
      "execution_count": 4,
      "outputs": [
        {
          "output_type": "stream",
          "name": "stdout",
          "text": [
            "Downloading FEVER data splits...\n",
            "Download completed!\n",
            "Extracting dataset...\n",
            "Extraction completed!\n"
          ]
        }
      ]
    },
    {
      "cell_type": "markdown",
      "metadata": {
        "id": "RbH_8errW5MH"
      },
      "source": [
        "# Classification dataset\n",
        "\n",
        "At this point, you should have a reay-to-go dataset! Note that the dataset format changed as well! In particular, we split the evidence set associated to each claim, in order to build `(claim, evidence)` pairs. The classification label is propagated as well.\n",
        "\n",
        "We'll motivate this decision in the next section!\n",
        "\n",
        "Just for clarity, here's an example of the pre-processed dataset:\n",
        "\n",
        "---\n",
        "\n",
        "**Claim**: \"Wentworth Miller is yet to make his screenwriting debut.\"\n",
        "\n",
        "**Evidence**: \"2\tHe made his screenwriting debut with the 2013 thriller film Stoker .\tStoker\tStoker (film)\"\n",
        "\n",
        "**Label**: Refutes\n",
        "\n",
        "---\n",
        "\n",
        "[**Note**]: The dataset requires some text cleaning as you may have noticed!\n"
      ]
    },
    {
      "cell_type": "markdown",
      "metadata": {
        "id": "gH8hIK21Xrl0"
      },
      "source": [
        "# Problem formulation\n",
        "\n",
        "As mentioned at the beginning of the assignment, we are going to formulate the fact checking problem as a binary classification task.\n",
        "\n",
        "In particular, each dataset sample is comprised of:\n",
        "\n",
        "*     A claim to verify\n",
        "*     A set of semantically related statements (evidence set)\n",
        "*     Fact checking label: either evidences support or refute the claim.\n",
        "\n",
        "Handling the evidence set from the point of view of neural models may imply some additional complexity: if the evidence set is comprised of several sentences we might incur in memory problems.\n",
        "\n",
        "To this end, we further simplify the problem by building (claim, evidence) pairs. The fact checking label is propagated as well.\n",
        "\n",
        "Example:\n",
        "\n",
        "     Claim: c1 \n",
        "     Evidence set: [e1, e2, e3]\n",
        "     Label: S (support)\n",
        "\n",
        "--->\n",
        "\n",
        "    (c1, e1, S),\n",
        "    (c1, e2, S),\n",
        "    (c1, e3, S)"
      ]
    },
    {
      "cell_type": "markdown",
      "metadata": {
        "id": "E46flIz_zQy-"
      },
      "source": [
        "## 4.1 Schema\n",
        "\n",
        "The overall binary classification problem is summed up by the following (simplified) schema\n",
        "\n",
        "![](https://drive.google.com/uc?export=view&id=1Wm_YBnFwgJtxcWEBpPbTBEVkpKaL08Jp)\n",
        "\n",
        "Don't worry too much about the **Encoding** block for now. We'll give you some simple guidelines about its definition. For the moment, stick to the binary classification task definition where, in this case, we have 2 inputs: the claim to verify and one of its associated evidences."
      ]
    },
    {
      "cell_type": "markdown",
      "metadata": {
        "id": "LsiTV-NVdgsF"
      },
      "source": [
        "# Architecture Guidelines\n",
        "\n",
        "There are many neural architectures that follow the above schema. To avoid phenomena like the writer's block, in this section we are going to give you some implementation guidelines.\n",
        "\n",
        "In particular, we would like you to test some implementations so that you explore basic approaches (neural baselines) and use them as building blocks for possible extensions."
      ]
    },
    {
      "cell_type": "markdown",
      "metadata": {
        "id": "ZJBQm47fe7iE"
      },
      "source": [
        "## 5.1 Handling multiple inputs\n",
        "\n",
        "The first thing to notice is that we are in a multi-input scenario. In particular, each sample is comprised of a fact and its asssociated evidence statement.\n",
        "\n",
        "Each of these input is encoded as a sequence of tokens. In particular, we will have the following input matrices:\n",
        "\n",
        "*    Claim: `[batch_size, max_tokens]`\n",
        "*    Evidence: `[batch_size, max_tokens]`\n",
        "\n",
        "Moreover, after the embedding layer, we'll have:\n",
        "\n",
        "*    Claim: `[batch_size, max_tokens, embedding_dim]`\n",
        "*    Evidence: `[batch_size, max_tokens, embedding_dim]`\n",
        "\n",
        "But, we would like to have a 2D input to our classifier, since we have to give an answer at pair level. Therefore, for each sample, we would expect the following input shape to our classification block:\n",
        "\n",
        "*   Classification input shape: `[batch_size, dim]`\n",
        "\n",
        "**How to do that?**\n",
        "\n",
        "We inherently need to reduce the token sequence to a single representation. This operation is formally known as **sentence embedding**. Indeed, we are trying to compress the information of a whole sequence into a single embedding vector.\n",
        "\n",
        "Here are some simple solutions that we ask you to try out:\n",
        "\n",
        "1.   Encode token sequences via a RNN and take the last state as the sentence embedding.\n",
        "\n",
        "2.  Encode token sequences via a RNN and average all the output states.\n",
        "\n",
        "3.  Encode token sequences via a simple MLP layer. In particular, if your input is a `[batch_size, max_tokens, embedding_dim]` tensor, the matrix multiplication works on the **max_tokens** dimension, resulting in a `[batch_size, embedding_dim]` 2D matrix. Alternatively, you can reshape the 3D input tensor from `[batch_size, max_tokens, embedding_dim]` to `[batch_size, max_tokens * embedding_dim]` and then apply the MLP layer.\n",
        "\n",
        "4.   Compute the sentence embedding as the mean of its token embeddings (**bag of vectors**)."
      ]
    },
    {
      "cell_type": "markdown",
      "metadata": {
        "id": "Gypl5z5ElJo1"
      },
      "source": [
        "## 5.2 Merging multi-inputs\n",
        "\n",
        "At this point, we have to think about **how** we should merge evidence and claim sentence embeddings.\n",
        "\n",
        "For simplicity, we stick to simple merging strategies:\n",
        "\n",
        "*     **Concatenation**: define the classification input as the concatenation of evidence and claim sentence embeddings\n",
        "\n",
        "*     **Sum**: define the classification input as the sum of evidence and claim sentence embeddings\n",
        "\n",
        "*     **Mean**: define the classification input as the mean of evidence and claim sentence embeddings\n",
        "\n",
        "For clarity, if the sentence embedding of a single input has shape `[batch_size, embedding_dim]`, then the classification input has shape:\n",
        "\n",
        "*     **Concatenation**: `[batch_size, 2 * embedding_dim]`\n",
        "\n",
        "*     **Sum**: `[batch_size, embedding_dim]`\n",
        "\n",
        "*     **Mean**: `[batch_size, embedding_dim]`"
      ]
    },
    {
      "cell_type": "markdown",
      "metadata": {
        "id": "IhVg9ZLymOUc"
      },
      "source": [
        "# A simple extension\n",
        "\n",
        "Lastly, we ask you to modify previously defined neural architectures by adding an additional feature to the classification input.\n",
        "\n",
        "We would like to see if some similarity information between the claim to verify and one of its associated evidence might be useful to the classification.\n",
        "\n",
        "Compute the cosine similarity metric between the two sentence embeddings and concatenate the result to the classification input.\n",
        "\n",
        "For clarity, since the cosine similarity of two vectors outputs a scalar value, the classification input shape is modified as follows:\n",
        "\n",
        "*     **Concatenation**: `[batch_size, 2 * embedding_dim + 1]`\n",
        "\n",
        "*     **Sum**: `[batch_size, embedding_dim + 1]`\n",
        "\n",
        "*     **Mean**: `[batch_size, embedding_dim + 1]`\n",
        "\n"
      ]
    },
    {
      "cell_type": "markdown",
      "metadata": {
        "id": "Nd74ULgpnJrc"
      },
      "source": [
        "# Performance evaluation\n",
        "\n",
        "Due to our simplifications, obtained results are not directly compatible with a traditional fact checking method that considers the evidence set as a whole.\n",
        "\n",
        "Thus, we need to consider two types of evaluations.\n",
        "\n",
        "---\n",
        "\n",
        "A. **Multi-input classification evaluation**\n",
        "\n",
        "This type of evaluation is the easiest and concerns computing evaluation metrics, such as accuracy, f1-score, recall and precision, of our pre-processed dataset.\n",
        "\n",
        "In other words, we assess the performance of chosen classifiers.\n",
        "\n",
        "---\n",
        "\n",
        "B. **Claim verification evaluation**\n",
        "\n",
        "However, if we want to give an answer concerning the claim itself, we need to consider the whole evidence set. \n",
        "\n",
        "Intuitively, for a given claim, we consider all its corresponding (claim, evidence) pairs and their corresponding classification outputs. \n",
        "\n",
        "At this point, all we need to do is to compute the final predicted claim label via majority voting.\n",
        "\n",
        "---\n",
        "\n",
        "Example:\n",
        "\n",
        "    Claim: c1\n",
        "    Evidence set: e1, e2, e3\n",
        "    True label: S\n",
        "\n",
        "    Pair outputs:\n",
        "    (c1, e1) -> S (supports)\n",
        "    (c1, e2) -> S (supports)\n",
        "    (c1, e3) -> R (refutes)\n",
        "\n",
        "    Majority voting:\n",
        "    S -> 2 votes\n",
        "    R -> 1 vote\n",
        "\n",
        "    Final label:\n",
        "    c1 -> S\n",
        "\n",
        "Lastly, we have to compute classification metrics just like before.\n",
        "\n",
        "Shortly speaking, implement both strategies for your classification metrics."
      ]
    },
    {
      "cell_type": "markdown",
      "metadata": {
        "id": "W4LJ2yPxsUOV"
      },
      "source": [
        "# Tips and Extras"
      ]
    },
    {
      "cell_type": "markdown",
      "metadata": {
        "id": "Uf80UVRNrXve"
      },
      "source": [
        "## 8.1 Extensions are welcome!\n",
        "\n",
        "Is this task too easy for you? Are you curious to try out things you have seen during lectures (e.g. attention)? Feel free to try everything you want!\n",
        "\n",
        "**Don't forget to try neural baselines first!**"
      ]
    },
    {
      "cell_type": "markdown",
      "metadata": {
        "id": "COXeCXdYsBEf"
      },
      "source": [
        "## 8.2 Comments and documentation\n",
        "\n",
        "Remember to properly comment your code (it is not necessary to comment each single line) and don't forget to describe your work!"
      ]
    },
    {
      "cell_type": "markdown",
      "metadata": {
        "id": "Ejv6SDE8xc4_"
      },
      "source": [
        "## 8.3 Organization\n",
        "\n",
        "We suggest you to divide your work into sections. This allows you to build clean and modular code, as well as easy to read and to debug.\n",
        "\n",
        "A possible schema:\n",
        "\n",
        "*   Dataset pre-processing\n",
        "*   Dataset conversion\n",
        "*   Model definition\n",
        "*   Training\n",
        "*   Evaluation\n",
        "*   Comments/Summary"
      ]
    },
    {
      "cell_type": "markdown",
      "metadata": {
        "id": "19QWjgGzIKOq"
      },
      "source": [
        "# Evaluation\n",
        "\n",
        "Which are the evaluation criteria on which we'll judge you and your work?\n",
        "\n",
        "1. Pre-processing: whether you have done some pre-processing or not.\n",
        "2. Sentence embedding: you should implement all required strategies (with an example and working code for each). That is, we, as evaluators, should be able to test all strategies without writing down new code.\n",
        "3. Multiple inputs merging strategies: you should implement all required strategies (with an example and working code for each).\n",
        "4. Similarity extension: you should implement the cosine similarity extension (with an example and working code).\n",
        "5. Voting strategy: you should implement the majority voting strategy and provide results.\n",
        "6. Report: when submitting your notebook, you should also attach a small summary report that describes what you have done (provide motivations as well for abitrary steps. For instance, \"We've applied L2 regularization since the model was overfitting\".\n",
        "\n",
        "Extras (possible extra points):\n",
        "\n",
        "1. Any well defined extension is welcome!\n",
        "2. Well organized and commented code is as important as any other criteria."
      ]
    },
    {
      "cell_type": "markdown",
      "metadata": {
        "id": "9DR70uh7pabo"
      },
      "source": [
        "# Contact\n",
        "\n",
        "For any doubt, question, issue or help, you can always contact us at the following email addresses:\n",
        "\n",
        "Teaching Assistants:\n",
        "\n",
        "* Andrea Galassi -> a.galassi@unibo.it\n",
        "* Federico Ruggeri -> federico.ruggeri6@unibo.it\n",
        "\n",
        "Professor:\n",
        "\n",
        "* Paolo Torroni -> p.torroni@unibo.it\n",
        "\n",
        "*Note*: We highly recommend you to check the [course useful material](https://virtuale.unibo.it/pluginfile.php/1036039/mod_resource/content/2/NLP_Course_Useful_Material.pdf) for additional information before contacting us!"
      ]
    },
    {
      "cell_type": "markdown",
      "metadata": {
        "id": "Jc0gNWU2pgKQ"
      },
      "source": [
        "# FAQ\n",
        "\n",
        "---\n",
        "\n",
        "**Question**: Can I do something text pre-processing?\n",
        "\n",
        "**Answer:** You have to! If you check text data, the majority of sentences need some cleaning.\n",
        "\n",
        "---\n",
        "\n",
        "**Question**: The model architecture schema is not so clear, are we doing end-to-end training?\n",
        "\n",
        "**Answer**: Exactly! All models can be thought as:\n",
        "\n",
        "1. Input\n",
        "2. (word) Embedding\n",
        "3. Sentence embedding\n",
        "4. Multiple inputs merging\n",
        "5. Classification\n",
        "\n",
        "---\n",
        "\n",
        "**Question**: Can I extend models by adding more layers?\n",
        "\n",
        "**Answer**: Feel free to define model architectures as you wish, but remember satisfy our requirements. This assignment should not be thought as a competition to achieve the best performing model: fancy students that want to show off but miss required assignment objectives will be punished!!\n",
        "\n",
        "---\n",
        "\n",
        "**Question**: I'm struggling with the implementation. Can you help me?\n",
        "\n",
        "**Answer**: Yes sure! Contact us and describe your issue. If you are looking for a particular type of operation, you can easily check the documentation of the deep learning framework you are using (google is your friend).\n",
        "\n",
        "---\n",
        "\n",
        "**Question**: Can I try other encoding strategies or neural architectures?\n",
        "\n",
        "**Answer:** Absolutely! Remember to try out recommended neural baselines first and only then proceed with your extensions.\n",
        "\n",
        "---\n",
        "\n",
        "**Question**: Do we have to test all possible sentence embedding and input merging combinations?\n",
        "\n",
        "**Answer**: Absolutely no! Feel free to pick one sentence embedding strategy and try all possible input merging strategies with it! For instance, pick the best performing sentence embedding method and proceed with next steps (extras included). Please, note that you still have to implement all mentioned strategies!\n",
        "\n",
        "---\n",
        "\n",
        "**Question**: I'm hitting out of memory error when training my models, do you have any suggestions?\n",
        "\n",
        "**Answer**: Here are some common workarounds:\n",
        "\n",
        "1. Try decreasing the mini-batch size\n",
        "2. Try applying a different padding strategy (if you are applying padding): e.g. use quantiles instead of maximum sequence length\n",
        "3. Check the efficiency of your custom code implementation (if any)\n",
        "4. Try to define same length mini-batches to avoid padding (**It should not be necessary here!**)\n",
        "\n",
        "---\n",
        "\n",
        "**Question**: I'm hitting CUDNN_STATUS_BAD_PARAM error! What I'm doing wrong?\n",
        "\n",
        "**Answer**: This error is a little bit tricky since the stack trace is not meaningful at all! This error occurs when the RNN is fed with a sequence of all 0s and pad masking is enabled (e.g. from the embedding layer). Please, check your conversion step, since there might be an error that leads to the encoding of a sentence to all 0s.\n",
        "\n",
        "---"
      ]
    },
    {
      "cell_type": "markdown",
      "source": [
        "# Solution"
      ],
      "metadata": {
        "id": "ng8wZHWxqibq"
      }
    },
    {
      "cell_type": "code",
      "source": [
        "import os\n",
        "import pandas as pd\n",
        "import numpy as np\n",
        "import matplotlib.pyplot as plt\n",
        "import csv\n",
        "import re\n",
        "import nltk\n",
        "import copy\n",
        "\n",
        "from functools import reduce\n",
        "from nltk.corpus import stopwords\n",
        "\n",
        "import torch\n",
        "import torch.nn as nn\n",
        "import torch.optim as optim\n",
        "\n",
        "from torch.nn.functional import cosine_similarity\n",
        "from torch.utils.data import Dataset, DataLoader\n",
        "from torch.utils.tensorboard import SummaryWriter\n",
        "\n",
        "from tqdm import tqdm\n",
        "\n",
        "import gensim\n",
        "import gensim.downloader as gloader\n",
        "from gensim.models.keyedvectors import KeyedVectors\n",
        "\n",
        "from typing import List, Set, Dict, Any, Callable, Optional\n",
        "\n",
        "device = torch.device(\"cuda\" if torch.cuda.is_available() else \"cpu\")"
      ],
      "metadata": {
        "id": "fgDBPnRfqhYo"
      },
      "execution_count": 225,
      "outputs": []
    },
    {
      "cell_type": "markdown",
      "source": [
        "## Tensorboard"
      ],
      "metadata": {
        "id": "Pl2XqDs9qr4a"
      }
    },
    {
      "cell_type": "code",
      "source": [
        "%load_ext tensorboard\n",
        "%tensorboard --logdir=\"logs\""
      ],
      "metadata": {
        "id": "_LIGDnS4qtTX"
      },
      "execution_count": null,
      "outputs": []
    },
    {
      "cell_type": "markdown",
      "source": [
        "# Dataset pre-processing"
      ],
      "metadata": {
        "id": "cwO5g7mGqz35"
      }
    },
    {
      "cell_type": "code",
      "source": [
        "# Config\n",
        "\n",
        "REPLACE_BY_SPACE_RE = re.compile('[/(){}\\[\\]\\|@,;-]')\n",
        "GOOD_SYMBOLS_RE = re.compile('[^0-9a-z #+_]')\n",
        "PHONETIC_RE = re.compile('-LSB-?(.*?)-RSB-')\n",
        "LRB = re.compile('-LRB-')\n",
        "RRB = re.compile('-RRB-')\n",
        "try:\n",
        "    STOPWORDS = set(stopwords.words('english'))\n",
        "except LookupError:\n",
        "    nltk.download('stopwords')\n",
        "    STOPWORDS = set(stopwords.words('english'))\n",
        "\n",
        "def remove_pronunciation_hints(text: str) -> str:\n",
        "    \"\"\"\n",
        "    Removes any pronunciation hints in the text\n",
        "    good symbols list (check regular expression)\n",
        "    Input: '0\\tRoald Dahl -LRB- -LSB- langpronˈroʊ.əld _ ˈdɑːl -RSB- , ...'\n",
        "    Output: '0\\tRoald Dahl -LRB-  ,  ; 13 September 1916 -- 23 November 1990 -RRB- ...'\n",
        "    \"\"\"\n",
        "    return PHONETIC_RE.sub('', text)\n",
        "\n",
        "def remove_round_brackets(text: str) -> str:\n",
        "    \"\"\"\n",
        "    Removes round brackets in the text\n",
        "    good symbols list (check regular expression)\n",
        "    Input: '0\\tRoald Dahl -LRB-  ,  ; 13 September 1916 -- 23 November 1990 -RRB- ...'\n",
        "    Output: '0\\tRoald Dahl   ,  ; 13 September 1916 -- 23 November 1990 ...'\n",
        "    \"\"\"\n",
        "    text = LRB.sub('', text)\n",
        "    return RRB.sub('', text)\n",
        "\n",
        "def custom_strip(text: str) -> str:\n",
        "    \"\"\"\n",
        "    strip customized on this sataset\n",
        "    Input: 0\\nRoald Dahl ... and fighter pilot .\\tfighter pilot\\tfighter pilot'\n",
        "    Output: 'Roald Dahl  ... writer , poet , screenwriter , and fighter pilot'\n",
        "    \"\"\"\n",
        "    initial = text.find('\\t')+1\n",
        "    end = text.find('.')\n",
        "    if end <= -1:\n",
        "        end = text.find('!')\n",
        "    if end <= -1:\n",
        "        end = text.find(':')\n",
        "    if end <= -1:\n",
        "        end = text.find(',')\n",
        "    return text[initial:end]\n",
        "\n",
        "def lower(text: str) -> str:\n",
        "    \"\"\"\n",
        "    Transforms given text to lower case.\n",
        "    Example:\n",
        "    Input: 'I really like New York city'\n",
        "    Output: 'i really like new your city'\n",
        "    \"\"\"\n",
        "\n",
        "    return text.lower()\n",
        "\n",
        "def replace_special_characters(text: str) -> str:\n",
        "    \"\"\"\n",
        "    Replaces special characters, such as paranthesis,\n",
        "    with spacing character\n",
        "    \"\"\"\n",
        "\n",
        "    return REPLACE_BY_SPACE_RE.sub(' ', text)\n",
        "\n",
        "\n",
        "def filter_out_uncommon_symbols(text: str) -> str:\n",
        "    \"\"\"\n",
        "    Removes any special character that is not in the\n",
        "    good symbols list (check regular expression)\n",
        "    \"\"\"\n",
        "\n",
        "    return GOOD_SYMBOLS_RE.sub('', text)\n",
        "\n",
        "def remove_stopwords(text: str) -> str:\n",
        "    return ' '.join([x for x in text.split() if x and x not in STOPWORDS])\n",
        "\n",
        "\n",
        "def strip_text(text: str) -> str:\n",
        "    \"\"\"\n",
        "    Removes any left or right spacing (including carriage return) from text.\n",
        "    Example:\n",
        "    Input: '  This assignment is cool\\n'\n",
        "    Output: 'This assignment is cool'\n",
        "    \"\"\"\n",
        "\n",
        "    return text.strip()\n",
        "\n",
        "PREPROCESSING_PIPELINE = [\n",
        "                          remove_pronunciation_hints,\n",
        "                          remove_round_brackets,\n",
        "                          custom_strip,\n",
        "                          lower,\n",
        "                          replace_special_characters,\n",
        "                          filter_out_uncommon_symbols,\n",
        "                          remove_stopwords,\n",
        "                          strip_text\n",
        "                          ]\n",
        "\n",
        "# Anchor method\n",
        "\n",
        "def text_prepare(text: str,\n",
        "                 filter_methods: List[Callable[[str], str]] = None) -> str:\n",
        "    \"\"\"\n",
        "    Applies a list of pre-processing functions in sequence (reduce).\n",
        "    Note that the order is important here!\n",
        "    \"\"\"\n",
        "    if not filter_methods:\n",
        "        filter_methods = PREPROCESSING_PIPELINE\n",
        "\n",
        "    return reduce(lambda txt, f: f(txt), filter_methods, text)\n",
        "\n",
        "def text_cleaning(df: pd.DataFrame, verbose=False):\n",
        "    cols = ['Claim', 'Evidence']\n",
        "\n",
        "    if verbose:\n",
        "        print('Pre-processing text...')\n",
        "        print()\n",
        "        print('[Debug] Before:\\n')\n",
        "        print(f'{df[cols].head(3)}')\n",
        "        print()\n",
        "\n",
        "    # Replace each sentence with its pre-processed version\n",
        "    for col in cols:\n",
        "        df[col] = df[col].apply(lambda txt: text_prepare(txt))\n",
        "    \n",
        "    if verbose:\n",
        "        print('[Debug] After:\\n')\n",
        "        print(f'{df[cols].head(3)}')\n",
        "        print()\n",
        "\n",
        "        print(\"Pre-processing completed!\")"
      ],
      "metadata": {
        "id": "lvOzefcQKo3D"
      },
      "execution_count": 226,
      "outputs": []
    },
    {
      "cell_type": "code",
      "metadata": {
        "id": "tqmlAreMrVL1"
      },
      "source": [
        "train_set = pd.read_csv('dataset/train_pairs.csv', index_col=0)\n",
        "val_set = pd.read_csv('dataset/val_pairs.csv', index_col=0)\n",
        "test_set = pd.read_csv('dataset/test_pairs.csv', index_col=0)"
      ],
      "execution_count": 215,
      "outputs": []
    },
    {
      "cell_type": "code",
      "metadata": {
        "id": "U9vhD-pnrVL2",
        "colab": {
          "base_uri": "https://localhost:8080/"
        },
        "outputId": "c79fefc2-cb17-4a6b-d045-ec59a9842807"
      },
      "source": [
        "text_cleaning(train_set, verbose = True)\n",
        "text_cleaning(val_set)\n",
        "text_cleaning(test_set)"
      ],
      "execution_count": 216,
      "outputs": [
        {
          "output_type": "stream",
          "name": "stdout",
          "text": [
            "Pre-processing text...\n",
            "\n",
            "[Debug] Before:\n",
            "\n",
            "                                            Claim                                           Evidence\n",
            "0  Chris Hemsworth appeared in A Perfect Getaway.  2\\tHemsworth has also appeared in the science ...\n",
            "1                         Roald Dahl is a writer.  0\\tRoald Dahl -LRB- -LSB- langpronˈroʊ.əld _ ˈ...\n",
            "2                       Roald Dahl is a governor.  0\\tRoald Dahl -LRB- -LSB- langpronˈroʊ.əld _ ˈ...\n",
            "\n",
            "[Debug] After:\n",
            "\n",
            "                                      Claim                                           Evidence\n",
            "0  chris hemsworth appeared perfect getaway  hemsworth also appeared science fiction action...\n",
            "1                         roald dahl writer  roald dahl 13 september 1916 23 november 1990 ...\n",
            "2                       roald dahl governor  roald dahl 13 september 1916 23 november 1990 ...\n",
            "\n",
            "Pre-processing completed!\n"
          ]
        }
      ]
    },
    {
      "cell_type": "code",
      "source": [
        "train_set.head()"
      ],
      "metadata": {
        "colab": {
          "base_uri": "https://localhost:8080/",
          "height": 206
        },
        "id": "CDOxt4uVrP70",
        "outputId": "a37c1913-deba-4705-9165-fbea2e42fbc6"
      },
      "execution_count": 217,
      "outputs": [
        {
          "output_type": "execute_result",
          "data": {
            "text/html": [
              "<div>\n",
              "<style scoped>\n",
              "    .dataframe tbody tr th:only-of-type {\n",
              "        vertical-align: middle;\n",
              "    }\n",
              "\n",
              "    .dataframe tbody tr th {\n",
              "        vertical-align: top;\n",
              "    }\n",
              "\n",
              "    .dataframe thead th {\n",
              "        text-align: right;\n",
              "    }\n",
              "</style>\n",
              "<table border=\"1\" class=\"dataframe\">\n",
              "  <thead>\n",
              "    <tr style=\"text-align: right;\">\n",
              "      <th></th>\n",
              "      <th>Claim</th>\n",
              "      <th>Evidence</th>\n",
              "      <th>ID</th>\n",
              "      <th>Label</th>\n",
              "    </tr>\n",
              "  </thead>\n",
              "  <tbody>\n",
              "    <tr>\n",
              "      <th>0</th>\n",
              "      <td>chris hemsworth appeared perfect getaway</td>\n",
              "      <td>hemsworth also appeared science fiction action...</td>\n",
              "      <td>3</td>\n",
              "      <td>SUPPORTS</td>\n",
              "    </tr>\n",
              "    <tr>\n",
              "      <th>1</th>\n",
              "      <td>roald dahl writer</td>\n",
              "      <td>roald dahl 13 september 1916 23 november 1990 ...</td>\n",
              "      <td>7</td>\n",
              "      <td>SUPPORTS</td>\n",
              "    </tr>\n",
              "    <tr>\n",
              "      <th>2</th>\n",
              "      <td>roald dahl governor</td>\n",
              "      <td>roald dahl 13 september 1916 23 november 1990 ...</td>\n",
              "      <td>8</td>\n",
              "      <td>REFUTES</td>\n",
              "    </tr>\n",
              "    <tr>\n",
              "      <th>3</th>\n",
              "      <td>ireland relatively low lying mountains</td>\n",
              "      <td>island geography comprises relatively low lyin...</td>\n",
              "      <td>9</td>\n",
              "      <td>SUPPORTS</td>\n",
              "    </tr>\n",
              "    <tr>\n",
              "      <th>4</th>\n",
              "      <td>ireland relatively low lying mountains</td>\n",
              "      <td>island geography comprises relatively low lyin...</td>\n",
              "      <td>10</td>\n",
              "      <td>REFUTES</td>\n",
              "    </tr>\n",
              "  </tbody>\n",
              "</table>\n",
              "</div>"
            ],
            "text/plain": [
              "                                      Claim  ...     Label\n",
              "0  chris hemsworth appeared perfect getaway  ...  SUPPORTS\n",
              "1                         roald dahl writer  ...  SUPPORTS\n",
              "2                       roald dahl governor  ...   REFUTES\n",
              "3    ireland relatively low lying mountains  ...  SUPPORTS\n",
              "4    ireland relatively low lying mountains  ...   REFUTES\n",
              "\n",
              "[5 rows x 4 columns]"
            ]
          },
          "metadata": {},
          "execution_count": 217
        }
      ]
    },
    {
      "cell_type": "markdown",
      "source": [
        "### TEST"
      ],
      "metadata": {
        "id": "5BHUMyY9TmlE"
      }
    },
    {
      "cell_type": "code",
      "source": [
        "text = train_set['Evidence'][2]\n",
        "print(text)\n",
        "for fn in PREPROCESSING_PIPELINE:\n",
        "    text = fn(text)\n",
        "    print(text)"
      ],
      "metadata": {
        "colab": {
          "base_uri": "https://localhost:8080/"
        },
        "id": "kZjhw96iU2tz",
        "outputId": "c8a0f893-8a38-4bb5-aab7-6db421dde80d"
      },
      "execution_count": 112,
      "outputs": [
        {
          "output_type": "stream",
          "name": "stdout",
          "text": [
            "0\tRoald Dahl -LRB- -LSB- langpronˈroʊ.əld _ ˈdɑːl -RSB- , -LSB- ˈɾuːɑl dɑl -RSB- ; 13 September 1916 -- 23 November 1990 -RRB- was a British novelist , short story writer , poet , screenwriter , and fighter pilot .\tfighter pilot\tfighter pilot\n",
            "0\tRoald Dahl -LRB-  ,  ; 13 September 1916 -- 23 November 1990 -RRB- was a British novelist , short story writer , poet , screenwriter , and fighter pilot .\tfighter pilot\tfighter pilot\n",
            "0\tRoald Dahl   ,  ; 13 September 1916 -- 23 November 1990  was a British novelist , short story writer , poet , screenwriter , and fighter pilot .\tfighter pilot\tfighter pilot\n",
            "Roald Dahl   ,  ; 13 September 1916 -- 23 November 1990  was a British novelist , short story writer , poet , screenwriter , and fighter pilot \n",
            "roald dahl   ,  ; 13 september 1916 -- 23 november 1990  was a british novelist , short story writer , poet , screenwriter , and fighter pilot \n",
            "roald dahl        13 september 1916 -- 23 november 1990  was a british novelist   short story writer   poet   screenwriter   and fighter pilot \n",
            "roald dahl        13 september 1916  23 november 1990  was a british novelist   short story writer   poet   screenwriter   and fighter pilot \n",
            "roald dahl 13 september 1916 23 november 1990 british novelist short story writer poet screenwriter fighter pilot\n",
            "roald dahl 13 september 1916 23 november 1990 british novelist short story writer poet screenwriter fighter pilot\n"
          ]
        }
      ]
    },
    {
      "cell_type": "markdown",
      "source": [
        "```\n",
        "0\tRoald Dahl -LRB- -LSB- langpronˈroʊ.əld _ ˈdɑːl -RSB- , -LSB- ˈɾuːɑl dɑl -RSB- ; 13 September 1916 -- 23 November 1990 -RRB- was a British novelist , short story writer , poet , screenwriter , and fighter pilot .\tfighter pilot\tfighter pilot\n",
        "0\tRoald Dahl -LRB-  ,  ; 13 September 1916 -- 23 November 1990 -RRB- was a British novelist , short story writer , poet , screenwriter , and fighter pilot .\tfighter pilot\tfighter pilot\n",
        "0\tRoald Dahl   ,  ; 13 September 1916 -- 23 November 1990  was a British novelist , short story writer , poet , screenwriter , and fighter pilot .\tfighter pilot\tfighter pilot\n",
        "Roald Dahl   ,  ; 13 September 1916 -- 23 November 1990  was a British novelist , short story writer , poet , screenwriter , and fighter pilot \n",
        "roald dahl   ,  ; 13 september 1916 -- 23 november 1990  was a british novelist , short story writer , poet , screenwriter , and fighter pilot \n",
        "roald dahl        13 september 1916 -- 23 november 1990  was a british novelist   short story writer   poet   screenwriter   and fighter pilot \n",
        "roald dahl        13 september 1916  23 november 1990  was a british novelist   short story writer   poet   screenwriter   and fighter pilot \n",
        "roald dahl 13 september 1916 23 november 1990 british novelist short story writer poet screenwriter fighter pilot\n",
        "roald dahl 13 september 1916 23 november 1990 british novelist short story writer poet screenwriter fighter pilot\n",
        "```"
      ],
      "metadata": {
        "id": "NYygA5Q1bHnb"
      }
    },
    {
      "cell_type": "code",
      "source": [
        "# def text_cleaning(dataset: pd.DataFrame):\n",
        "#     dataset['Evidence'] = dataset['Evidence'].transform(lambda x : re.sub('-LSB-?(.*?)-RSB-', '', x))\n",
        "#     dataset['Evidence'] = dataset['Evidence'].transform(lambda x : x[x.find('\\t')+1 : x.find('.')] if x.find('.') > -1 else x[x.find('\\t')+1 : x.find('!')])\n",
        "#     dataset['Evidence'] = dataset['Evidence'].transform(lambda x : re.sub('[^ABCDEFGHIJKLMNOPQRSTUVWXYZabcdefghijklmnopqrstuvwxyz.0123456789?!\\'\\- ]', '', x))\n",
        "#     dataset['Evidence'] = dataset['Evidence'].transform(lambda x : x.replace('-LRB-', '')) # It deletes parenteses\n",
        "#     dataset['Evidence'] = dataset['Evidence'].transform(lambda x : x.replace('-RRB-', ''))\n",
        "#     dataset['Evidence'] = dataset['Evidence'].transform(lambda x : x.lower())\n",
        "#     dataset['Evidence'] = dataset['Evidence'].transform(lambda x : re.sub(' +', ' ', x).strip())"
      ],
      "metadata": {
        "id": "S3GZo3VxdbwS"
      },
      "execution_count": null,
      "outputs": []
    },
    {
      "cell_type": "code",
      "metadata": {
        "id": "3BuPe5iK5nQG"
      },
      "source": [
        "# All the rows with the same ID have the same claim but different evidences\n",
        "train_grouped = train_set.groupby(by='ID') "
      ],
      "execution_count": 161,
      "outputs": []
    },
    {
      "cell_type": "markdown",
      "source": [
        "# Dataset conversion"
      ],
      "metadata": {
        "id": "qYWaARzFq4Bo"
      }
    },
    {
      "cell_type": "code",
      "source": [
        "class FeverDataset(Dataset):\n",
        "    def __init__(self, dataframe: pd.DataFrame, embedder: KeyedVectors, sentence_length: int):\n",
        "        self.sentence_length = sentence_length  \n",
        "        self.dataframe = dataframe\n",
        "        self.embedder = embedder\n",
        "        self.encoder = encoder\n",
        "\n",
        "    def __len__(self):\n",
        "        return len(self.dataframe)\n",
        "\n",
        "    def __getitem__(self, idx):\n",
        "        claim = self.dataframe['Claim'][idx]\n",
        "        embedded_claim = self.embedder[claim.split()]\n",
        "       \n",
        "        evidence = self.dataframe['Evidence'][idx]\n",
        "        embedded_evidence = self.embedder[evidence.split()]\n",
        "        \n",
        "        label = 1 if self.dataframe['Label'][idx] == 'SUPPORT' else 0\n",
        "\n",
        "        return {\n",
        "            'claim': encoded_words, \n",
        "            'evidence': encoded_labels, \n",
        "            'label': label\n",
        "            }\n",
        "\n",
        "\n",
        "def load_glove_embedding(embedding_size=50) -> KeyedVectors:\n",
        "    download_path = f'glove-wiki-gigaword-{embedding_size}'\n",
        "\n",
        "    try:\n",
        "        emb_model = gloader.load(download_path)\n",
        "    except ValueError as e:\n",
        "        print(\"Invalid embedding model name! Check the embedding dimension:\")\n",
        "        print(\"Glove: 50, 100, 200, 300\")\n",
        "        raise e\n",
        "\n",
        "    return emb_model\n",
        "\n",
        "def get_unique_words(df: pd.DataFrame) -> Set[str]:\n",
        "    words = []\n",
        "\n",
        "    for col in ['Claim', 'Evidence']:\n",
        "        for sentence in df[col]:\n",
        "            words += sentence.split()\n",
        "\n",
        "    return set(words)\n",
        "\n",
        "def add_OOV(emb_model: KeyedVectors, words: Set[str], embedding_size: int):\n",
        "    oov = words.difference(set(emb_model.vocab.keys()))\n",
        "    oov_value = np.random.uniform(low=-0.05, high=0.05, size=(len(oov), embedding_size))\n",
        "    new_emb_model = copy.deepcopy(emb_model)\n",
        "    new_emb_model.add(list(oov), oov_value)\n",
        "\n",
        "    return new_emb_model, oov"
      ],
      "metadata": {
        "id": "c-qL2Vgkt_ey"
      },
      "execution_count": 227,
      "outputs": []
    },
    {
      "cell_type": "code",
      "source": [
        "train_words = get_unique_words(train_set)\n",
        "print(len(train_words))\n",
        "val_words = get_unique_words(val_set)\n",
        "print(len(val_words))\n",
        "test_words = get_unique_words(test_set)\n",
        "print(len(test_words))"
      ],
      "metadata": {
        "colab": {
          "base_uri": "https://localhost:8080/"
        },
        "id": "QSe_UMrXuTEz",
        "outputId": "82d9fc1b-012b-483b-cf16-26429635c78f"
      },
      "execution_count": 218,
      "outputs": [
        {
          "output_type": "stream",
          "name": "stdout",
          "text": [
            "31477\n",
            "8300\n",
            "9322\n"
          ]
        }
      ]
    },
    {
      "cell_type": "code",
      "source": [
        "glove50 = load_glove_embedding()"
      ],
      "metadata": {
        "id": "subh0m33q6kW"
      },
      "execution_count": 230,
      "outputs": []
    },
    {
      "cell_type": "code",
      "source": [
        "train_vocabulary, train_oov = add_OOV(glove50, train_words, 50)"
      ],
      "metadata": {
        "id": "Xbqe37l-vRnK"
      },
      "execution_count": 234,
      "outputs": []
    },
    {
      "cell_type": "code",
      "source": [
        "print(len(train_oov))\n",
        "# train_oov"
      ],
      "metadata": {
        "colab": {
          "base_uri": "https://localhost:8080/"
        },
        "id": "hPJlk4YnwaMg",
        "outputId": "f7709d1d-78eb-43b6-9944-4fb4d45b9ff2"
      },
      "execution_count": 235,
      "outputs": [
        {
          "output_type": "stream",
          "name": "stdout",
          "text": [
            "2878\n"
          ]
        }
      ]
    },
    {
      "cell_type": "code",
      "source": [
        "oov_dubbio = 'bollywoodbollywoodshahenshahshahansha'\n",
        "\n",
        "for col in ['Claim', 'Evidence']:\n",
        "    for idx, sentence in enumerate(train_set[col]):\n",
        "        if oov_dubbio in sentence.split():\n",
        "            print(col)\n",
        "            print(sentence)\n",
        "            print(idx)\n",
        "            break\n",
        "\n",
        "tmp = pd.read_csv('dataset/train_pairs.csv', index_col=0)\n",
        "\n",
        "print(tmp[col][idx])"
      ],
      "metadata": {
        "colab": {
          "base_uri": "https://localhost:8080/"
        },
        "id": "z2Od0q3CAPpv",
        "outputId": "5e3ff4a5-2721-4d30-df26-448892ebc727"
      },
      "execution_count": 233,
      "outputs": [
        {
          "output_type": "stream",
          "name": "stdout",
          "text": [
            "0\tAnderson da Silva -LRB- -LSB- ˈɐ̃deʁsõ ˈsiwvɐ -RSB- ; born April 14 , 1975 -RRB- is a Brazilian mixed martial artist and former UFC Middleweight Champion .\tMiddleweight\tMiddleweight (MMA)\tmixed martial artist\tmixed martial arts\tUFC Middleweight Champion\tUFC Middleweight Championship\n"
          ]
        }
      ]
    },
    {
      "cell_type": "markdown",
      "source": [
        "# Model definition"
      ],
      "metadata": {
        "id": "KDvJmIPAq7OV"
      }
    },
    {
      "cell_type": "markdown",
      "source": [
        "### Model Summary\n",
        "\n",
        "1. Input:\n",
        "\n",
        "    *    Claim: `[batch_size, max_tokens]`\n",
        "    *    Evidence: `[batch_size, max_tokens]`\n",
        "\n",
        "2. Word Embedding:\n",
        "\n",
        "    *    Claim: `[batch_size, max_tokens, embedding_dim]`\n",
        "    *    Evidence: `[batch_size, max_tokens, embedding_dim]`\n",
        "\n",
        "3. Sentence Embedding:\n",
        "    * Possible solutions:\n",
        "\n",
        "        1.   Encode token sequences via a RNN and take the last state as the sentence embedding.\n",
        "\n",
        "        2.  Encode token sequences via a RNN and average all the output states.\n",
        "\n",
        "        3.  Encode token sequences via a simple MLP layer. In particular, if your input is a `[batch_size, max_tokens, embedding_dim]` tensor, the matrix multiplication works on the **max_tokens** dimension, resulting in a `[batch_size, embedding_dim]` 2D matrix. Alternatively, you can reshape the 3D input tensor from `[batch_size, max_tokens, embedding_dim]` to `[batch_size, max_tokens * embedding_dim]` and then apply the MLP layer.\n",
        "\n",
        "        4.   Compute the sentence embedding as the mean of its token embeddings (**bag of vectors**).\n",
        "\n",
        "    *    Claim: `[batch_size, embedding_dim]`\n",
        "    *    Evidence: `[batch_size, embedding_dim]`\n",
        "\n",
        "4. Merging multi-inputs:\n",
        "\n",
        "    * **Concatenation**: define the classification input as the concatenation of evidence and claim sentence embeddings: `[batch_size, 2 * embedding_dim]`\n",
        "\n",
        "    *     **Sum**: define the classification input as the sum of evidence and claim sentence embeddings: `[batch_size, embedding_dim]`\n",
        "\n",
        "    *     **Mean**: define the classification input as the mean of evidence and claim sentence embeddings: `[batch_size, embedding_dim]`\n",
        "\n",
        "5. Extension (Cosine Similarity between sentences embeddigs):\n",
        "\n",
        "    *     **Concatenation**: `[batch_size, 2 * embedding_dim + 1]`\n",
        "\n",
        "    *     **Sum**: `[batch_size, embedding_dim + 1]`\n",
        "\n",
        "    *     **Mean**: `[batch_size, embedding_dim + 1]`\n",
        "\n",
        "6. Classification:     \n",
        "\n",
        "    * Output: `[batch_size, 2]`\n"
      ],
      "metadata": {
        "id": "OhLxfbDdvBlb"
      }
    },
    {
      "cell_type": "code",
      "source": [
        "# Sentence Embedding\n",
        "class RNNSentenceEmbedding(nn.Module):\n",
        "    def __init__(self, embedding_dim, sentence_embedding_dim):\n",
        "        super().__init__()\n",
        "        self.rnn = nn.RNN(embedding_dim, sentence_embedding_dim, nonlinearity = 'relu')\n",
        "\n",
        "    def forward(self, inputs):\n",
        "        output, _ = self.rnn(inputs)\n",
        "        return output[-1]\n",
        "\n",
        "class RNNSentenceEmbeddingMean(RNNSentenceEmbedding):\n",
        "    def forward(self, inputs):\n",
        "        output, _ = self.rnn(inputs)\n",
        "        return torch.mean(output, 0)\n",
        "\n",
        "class MLPSentenceEmbedding(nn.Module):\n",
        "    def __init__(self, max_tokens, embedding_dim, sentence_embedding_dim):\n",
        "        super().__init__()\n",
        "        self.max_tokens = max_tokens\n",
        "        self.mlp = nn.Sequential(\n",
        "                nn.Flatten(),\n",
        "                nn.Linear(max_tokens * embedding_dim, sentence_embedding_dim),\n",
        "                nn.ReLU(),\n",
        "                nn.Linear(sentence_embedding_dim, sentence_embedding_dim),\n",
        "                nn.ReLU(),\n",
        "            )\n",
        "\n",
        "    def forward(self, inputs):\n",
        "        inputs = inputs.view(inputs.shape[1], -1)\n",
        "        return self.mlp(inputs)\n",
        "\n",
        "# MODEL\n",
        "class FactCheckingModel(nn.Module):\n",
        "    def __init__(self, \n",
        "                 embedding_dim: int, \n",
        "                 max_tokens: int, \n",
        "                 sentence_embedding_type: str,\n",
        "                 sentence_embedding_dim: int,\n",
        "                 merging_type: str,\n",
        "                 add_cosine_similarity: bool,\n",
        "                 classifier_hidden_dim: int,\n",
        "                 device: torch.device\n",
        "                 ):\n",
        "        \"\"\"\n",
        "        Model for Fact Checking\n",
        "\n",
        "        Args:\n",
        "            embedding_dim (int): Dimension of the words embedding.\n",
        "            \n",
        "            max_tokens (int): Maximum number of tokens in the sentences. Used\n",
        "                              only when sentence_embedding_type='mlp'.\n",
        "\n",
        "            sentence_embedding_type (str): Type of sentence embedding.\n",
        "                possible values:\n",
        "                    'rnn_last': Encode token sequences via a RNN and take the\n",
        "                                last state as the sentence embedding.\n",
        "                    'rnn_mean': Encode token sequences via a RNN and average \n",
        "                                all the output states\n",
        "                    'mlp'     : Encode token sequences via a simple MLP layer\n",
        "                    'bov'     : Compute the sentence embedding as the mean of \n",
        "                                its token embeddings (bags of vectors).\n",
        "\n",
        "            sentence_embedding_dim (int): Dimension of the sentence embedding,\n",
        "                                          if sentence_embedding_type='bov' \n",
        "                                          this value is ignored\n",
        "\n",
        "            merging_type (str): Type of merging of the sentences embedding.\n",
        "                possible values:\n",
        "                    'concat'  : Concatenate the sentences embeddigs\n",
        "                    'sum'     : Sum of the sentences embeddigs\n",
        "                    'mean'    : Mean of the sentences embeddigs\n",
        "\n",
        "            add_cosine_similarity (bool): Add the cosine similarity between\n",
        "                                          claims and evidence embeddings to\n",
        "                                          the classifier input\n",
        "\n",
        "            classifier_hidden_dim (int): Dimension of the classifier\n",
        "                                         hidden layer\n",
        "\n",
        "            device (torch.device): torch device\n",
        "\n",
        "        Raises:\n",
        "            ValueError: Raises an exception if the type of sentence embedding\n",
        "                        or merging are not correct.\n",
        "        \"\"\"\n",
        "        super().__init__()\n",
        "        self.max_tokens = max_tokens\n",
        "        self.embedding_dim = embedding_dim\n",
        "\n",
        "        self.sentence_embedding_dim = sentence_embedding_dim\n",
        "        self.claim_embedding = self._get_sentence_embedding(sentence_embedding_type)\n",
        "        self.evidence_embedding = self._get_sentence_embedding(sentence_embedding_type)\n",
        "        \n",
        "        self.classifier_input_dim = self.sentence_embedding_dim\n",
        "        self.merging = self._get_merging(merging_type, add_cosine_similarity)\n",
        "        \n",
        "        self.classifier = self._get_classifier(classifier_hidden_dim)\n",
        "        \n",
        "        self.device = device\n",
        "    \n",
        "    def _get_sentence_embedding(self, config: str):\n",
        "        if config == 'rnn_last':\n",
        "            return RNNSentenceEmbedding(self.embedding_dim, self.sentence_embedding_dim)\n",
        "\n",
        "        elif config == 'rnn_mean':\n",
        "            return RNNSentenceEmbeddingMean(self.embedding_dim, self.sentence_embedding_dim)\n",
        "\n",
        "        elif config == 'mlp':\n",
        "            return MLPSentenceEmbedding(self.max_tokens, self.embedding_dim, self.sentence_embedding_dim)\n",
        "        \n",
        "        elif config == 'bov':\n",
        "            self.sentence_embedding_dim = self.embedding_dim\n",
        "            return lambda x: torch.mean(x, 0)\n",
        "\n",
        "        else:\n",
        "            raise ValueError(f\"Not existing sentence embedding type '{config}': choose between ['rnn_last', 'rnn_mean', 'mlp', 'bov']\")\n",
        "\n",
        "    def _get_merging(self, config: str, add_cosine_similarity: bool):\n",
        "        if config == 'concat':\n",
        "            self.classifier_input_dim *= 2\n",
        "            fn = lambda claim, evidence: torch.cat([claim, evidence], dim=1)\n",
        "        \n",
        "        elif config == 'sum':\n",
        "            fn = lambda claim, evidence: claim + evidence\n",
        "\n",
        "        elif config == 'mean':\n",
        "            fn = lambda claim, evidence: (claim + evidence) / 2\n",
        "        \n",
        "        else:\n",
        "            raise ValueError(f\"Not existing merging type '{config}': choose between ['concat', 'sum', 'mean']\")\n",
        "\n",
        "        if add_cosine_similarity:\n",
        "            self.classifier_input_dim += 1\n",
        "            return lambda c, e: torch.cat([fn(c, e), cosine_similarity(c, e).unsqueeze(1)], dim=1)\n",
        "        \n",
        "        return fn\n",
        "    \n",
        "    def _get_classifier(self, hidden: int) -> nn.Module:\n",
        "        return nn.Sequential(\n",
        "                nn.Linear(self.classifier_input_dim, hidden),\n",
        "                nn.ReLU(),\n",
        "                nn.Linear(hidden, 1),\n",
        "                nn.Sigmoid()\n",
        "            )\n",
        "\n",
        "    def forward(self, inputs):\n",
        "        claims, evidences = inputs\n",
        "        claims_embedded = self.claim_embedding(claims)\n",
        "        evidence_embedded = self.evidence_embedding(evidences)\n",
        "        merged = self.merging(claims_embedded, evidence_embedded)\n",
        "        return self.classifier(merged)\n",
        "\n",
        "    def prediction(self, input: DataLoader):\n",
        "        # TODO\n",
        "        self.eval()\n",
        "        with torch.no_grad():\n",
        "\n",
        "        y_pred = torch.Tensor().to(self.device)\n",
        "        for data in input:  \n",
        "            words = data['words'].float().to(device)\n",
        "            lengths = data['lengths'].to(device)\n",
        "            scores = self(words)\n",
        "            classes_predicted = torch.argmax(scores, 2)\n",
        "\n",
        "            for i, length in enumerate(lengths):\n",
        "            y_pred = torch.cat((y_pred, classes_predicted[i, :length]), 0)\n",
        "        \n",
        "        self.train()\n",
        "        return y_pred\n",
        "\n",
        "\n",
        "    def accuracy(self, input: DataLoader):\n",
        "        # TODO\n",
        "        num_correct = 0\n",
        "        num_samples = 0\n",
        "        self.eval()\n",
        "        \n",
        "        with torch.no_grad():\n",
        "            for data in input:\n",
        "                word = data['words'].float().to(device)\n",
        "                labels = data['labels'].to(device)\n",
        "                labels = labels.squeeze(-1)\n",
        "                \n",
        "                lengths = data['lengths'].to(device)\n",
        "\n",
        "                scores = self(word)\n",
        "                classes_predicted = torch.argmax(scores, 2)\n",
        "\n",
        "                for i, length in enumerate(lengths):\n",
        "                num_correct += torch.eq(classes_predicted[i, :length], labels[i, :length]).sum().item()\n",
        "\n",
        "                num_samples += lengths.sum()\n",
        "            \n",
        "        \n",
        "        self.train()\n",
        "        return num_correct/num_samples"
      ],
      "metadata": {
        "id": "a_R7t-0A2sJd"
      },
      "execution_count": 29,
      "outputs": []
    },
    {
      "cell_type": "markdown",
      "source": [
        "### Test"
      ],
      "metadata": {
        "id": "Bbnr4rnJYhFH"
      }
    },
    {
      "cell_type": "code",
      "source": [
        "max_tokens = 26\n",
        "embedding_dim = 37\n",
        "sentence_embedding_dim = 42\n",
        "classifier_hidden_dim = 12\n",
        "\n",
        "batch_size = 50\n",
        "steps=500\n",
        "inputs = torch.randn(2, max_tokens, batch_size, embedding_dim)\n",
        "y = torch.Tensor(np.random.randint(2, size=(batch_size,1)))\n",
        "\n",
        "for sentence_embedding_type in ['rnn_last', 'rnn_mean', 'mlp', 'bov']:\n",
        "    for merging_type in ['concat', 'mean', 'sum']:\n",
        "        for add_cosine_similarity in [False, True]:\n",
        "            print()\n",
        "            print('='*30)\n",
        "            print(f'SET: {sentence_embedding_type}, M: {merging_type}, ' \n",
        "                  f'C: {add_cosine_similarity}')\n",
        "            print('='*30)\n",
        "            print()\n",
        "            model = FactCheckingModel(\n",
        "                max_tokens, \n",
        "                embedding_dim, \n",
        "                sentence_embedding_type,\n",
        "                sentence_embedding_dim,\n",
        "                merging_type,\n",
        "                add_cosine_similarity,\n",
        "                classifier_hidden_dim\n",
        "                )\n",
        "            print('Input shape')\n",
        "            print(inputs.shape)\n",
        "            print('Output shape')\n",
        "            print(y.shape)\n",
        "            claims, evidences = inputs\n",
        "            print('Claims shape')\n",
        "            print(claims.shape)\n",
        "            print('Evidences shape')\n",
        "            print(evidences.shape)\n",
        "            c = model.claim_embedding(claims)\n",
        "            print('Embedded claims shape')\n",
        "            print(c.shape)\n",
        "            e = model.evidence_embedding(evidences)\n",
        "            print('Embedded evidences shape')\n",
        "            print(e.shape)\n",
        "            s = model.merging(c, e)\n",
        "            print('Merged shape')\n",
        "            print(s.shape)\n",
        "            o = model.classifier(s)\n",
        "            print('Actual output shape')\n",
        "            print(o.shape)\n",
        "\n",
        "            optimizer = Optimization(model)\n",
        "\n",
        "            for i in range(steps):\n",
        "                optimizer.train_step(inputs, y)\n",
        "\n",
        "            if batch_size < 5:\n",
        "                print('\\nBefore Training')\n",
        "                print(o)\n",
        "\n",
        "                output = model(inputs)\n",
        "                print('After Training')\n",
        "                print(output)\n",
        "                print('Expected')\n",
        "                print(y)\n",
        "\n",
        "            plt.plot(optimizer.history)\n",
        "            plt.show()"
      ],
      "metadata": {
        "id": "3LL3SvnTYwjE",
        "colab": {
          "base_uri": "https://localhost:8080/",
          "height": 1000
        },
        "outputId": "7b82669e-67c9-4664-ad91-ed349b905f20"
      },
      "execution_count": 41,
      "outputs": [
        {
          "output_type": "stream",
          "name": "stdout",
          "text": [
            "\n",
            "==============================\n",
            "SET: rnn_last, M: concat, C: False\n",
            "==============================\n",
            "\n",
            "Input shape\n",
            "torch.Size([2, 26, 50, 37])\n",
            "Output shape\n",
            "torch.Size([50, 1])\n",
            "Claims shape\n",
            "torch.Size([26, 50, 37])\n",
            "Evidences shape\n",
            "torch.Size([26, 50, 37])\n",
            "Embedded claims shape\n",
            "torch.Size([50, 42])\n",
            "Embedded evidences shape\n",
            "torch.Size([50, 42])\n",
            "Merged shape\n",
            "torch.Size([50, 84])\n",
            "Actual output shape\n",
            "torch.Size([50, 1])\n"
          ]
        },
        {
          "output_type": "display_data",
          "data": {
            "image/png": "[encoded data removed]",
            "text/plain": [
              "<Figure size 432x288 with 1 Axes>"
            ]
          },
          "metadata": {
            "needs_background": "light"
          }
        },
        {
          "output_type": "stream",
          "name": "stdout",
          "text": [
            "\n",
            "==============================\n",
            "SET: rnn_last, M: concat, C: True\n",
            "==============================\n",
            "\n",
            "Input shape\n",
            "torch.Size([2, 26, 50, 37])\n",
            "Output shape\n",
            "torch.Size([50, 1])\n",
            "Claims shape\n",
            "torch.Size([26, 50, 37])\n",
            "Evidences shape\n",
            "torch.Size([26, 50, 37])\n",
            "Embedded claims shape\n",
            "torch.Size([50, 42])\n",
            "Embedded evidences shape\n",
            "torch.Size([50, 42])\n",
            "Merged shape\n",
            "torch.Size([50, 85])\n",
            "Actual output shape\n",
            "torch.Size([50, 1])\n"
          ]
        },
        {
          "output_type": "display_data",
          "data": {
            "image/png": "[encoded data removed]",
            "text/plain": [
              "<Figure size 432x288 with 1 Axes>"
            ]
          },
          "metadata": {
            "needs_background": "light"
          }
        },
        {
          "output_type": "stream",
          "name": "stdout",
          "text": [
            "\n",
            "==============================\n",
            "SET: rnn_last, M: mean, C: False\n",
            "==============================\n",
            "\n",
            "Input shape\n",
            "torch.Size([2, 26, 50, 37])\n",
            "Output shape\n",
            "torch.Size([50, 1])\n",
            "Claims shape\n",
            "torch.Size([26, 50, 37])\n",
            "Evidences shape\n",
            "torch.Size([26, 50, 37])\n",
            "Embedded claims shape\n",
            "torch.Size([50, 42])\n",
            "Embedded evidences shape\n",
            "torch.Size([50, 42])\n",
            "Merged shape\n",
            "torch.Size([50, 42])\n",
            "Actual output shape\n",
            "torch.Size([50, 1])\n"
          ]
        },
        {
          "output_type": "display_data",
          "data": {
            "image/png": "[encoded data removed]",
            "text/plain": [
              "<Figure size 432x288 with 1 Axes>"
            ]
          },
          "metadata": {
            "needs_background": "light"
          }
        },
        {
          "output_type": "stream",
          "name": "stdout",
          "text": [
            "\n",
            "==============================\n",
            "SET: rnn_last, M: mean, C: True\n",
            "==============================\n",
            "\n",
            "Input shape\n",
            "torch.Size([2, 26, 50, 37])\n",
            "Output shape\n",
            "torch.Size([50, 1])\n",
            "Claims shape\n",
            "torch.Size([26, 50, 37])\n",
            "Evidences shape\n",
            "torch.Size([26, 50, 37])\n",
            "Embedded claims shape\n",
            "torch.Size([50, 42])\n",
            "Embedded evidences shape\n",
            "torch.Size([50, 42])\n",
            "Merged shape\n",
            "torch.Size([50, 43])\n",
            "Actual output shape\n",
            "torch.Size([50, 1])\n"
          ]
        },
        {
          "output_type": "display_data",
          "data": {
            "image/png": "[encoded data removed]",
            "text/plain": [
              "<Figure size 432x288 with 1 Axes>"
            ]
          },
          "metadata": {
            "needs_background": "light"
          }
        },
        {
          "output_type": "stream",
          "name": "stdout",
          "text": [
            "\n",
            "==============================\n",
            "SET: rnn_last, M: sum, C: False\n",
            "==============================\n",
            "\n",
            "Input shape\n",
            "torch.Size([2, 26, 50, 37])\n",
            "Output shape\n",
            "torch.Size([50, 1])\n",
            "Claims shape\n",
            "torch.Size([26, 50, 37])\n",
            "Evidences shape\n",
            "torch.Size([26, 50, 37])\n",
            "Embedded claims shape\n",
            "torch.Size([50, 42])\n",
            "Embedded evidences shape\n",
            "torch.Size([50, 42])\n",
            "Merged shape\n",
            "torch.Size([50, 42])\n",
            "Actual output shape\n",
            "torch.Size([50, 1])\n"
          ]
        },
        {
          "output_type": "display_data",
          "data": {
            "image/png": "[encoded data removed]",
            "text/plain": [
              "<Figure size 432x288 with 1 Axes>"
            ]
          },
          "metadata": {
            "needs_background": "light"
          }
        },
        {
          "output_type": "stream",
          "name": "stdout",
          "text": [
            "\n",
            "==============================\n",
            "SET: rnn_last, M: sum, C: True\n",
            "==============================\n",
            "\n",
            "Input shape\n",
            "torch.Size([2, 26, 50, 37])\n",
            "Output shape\n",
            "torch.Size([50, 1])\n",
            "Claims shape\n",
            "torch.Size([26, 50, 37])\n",
            "Evidences shape\n",
            "torch.Size([26, 50, 37])\n",
            "Embedded claims shape\n",
            "torch.Size([50, 42])\n",
            "Embedded evidences shape\n",
            "torch.Size([50, 42])\n",
            "Merged shape\n",
            "torch.Size([50, 43])\n",
            "Actual output shape\n",
            "torch.Size([50, 1])\n"
          ]
        },
        {
          "output_type": "display_data",
          "data": {
            "image/png": "[encoded data removed]",
            "text/plain": [
              "<Figure size 432x288 with 1 Axes>"
            ]
          },
          "metadata": {
            "needs_background": "light"
          }
        },
        {
          "output_type": "stream",
          "name": "stdout",
          "text": [
            "\n",
            "==============================\n",
            "SET: rnn_mean, M: concat, C: False\n",
            "==============================\n",
            "\n",
            "Input shape\n",
            "torch.Size([2, 26, 50, 37])\n",
            "Output shape\n",
            "torch.Size([50, 1])\n",
            "Claims shape\n",
            "torch.Size([26, 50, 37])\n",
            "Evidences shape\n",
            "torch.Size([26, 50, 37])\n",
            "Embedded claims shape\n",
            "torch.Size([50, 42])\n",
            "Embedded evidences shape\n",
            "torch.Size([50, 42])\n",
            "Merged shape\n",
            "torch.Size([50, 84])\n",
            "Actual output shape\n",
            "torch.Size([50, 1])\n"
          ]
        },
        {
          "output_type": "display_data",
          "data": {
            "image/png": "[encoded data removed]",
            "text/plain": [
              "<Figure size 432x288 with 1 Axes>"
            ]
          },
          "metadata": {
            "needs_background": "light"
          }
        },
        {
          "output_type": "stream",
          "name": "stdout",
          "text": [
            "\n",
            "==============================\n",
            "SET: rnn_mean, M: concat, C: True\n",
            "==============================\n",
            "\n",
            "Input shape\n",
            "torch.Size([2, 26, 50, 37])\n",
            "Output shape\n",
            "torch.Size([50, 1])\n",
            "Claims shape\n",
            "torch.Size([26, 50, 37])\n",
            "Evidences shape\n",
            "torch.Size([26, 50, 37])\n",
            "Embedded claims shape\n",
            "torch.Size([50, 42])\n",
            "Embedded evidences shape\n",
            "torch.Size([50, 42])\n",
            "Merged shape\n",
            "torch.Size([50, 85])\n",
            "Actual output shape\n",
            "torch.Size([50, 1])\n"
          ]
        },
        {
          "output_type": "display_data",
          "data": {
            "image/png": "[encoded data removed]",
            "text/plain": [
              "<Figure size 432x288 with 1 Axes>"
            ]
          },
          "metadata": {
            "needs_background": "light"
          }
        },
        {
          "output_type": "stream",
          "name": "stdout",
          "text": [
            "\n",
            "==============================\n",
            "SET: rnn_mean, M: mean, C: False\n",
            "==============================\n",
            "\n",
            "Input shape\n",
            "torch.Size([2, 26, 50, 37])\n",
            "Output shape\n",
            "torch.Size([50, 1])\n",
            "Claims shape\n",
            "torch.Size([26, 50, 37])\n",
            "Evidences shape\n",
            "torch.Size([26, 50, 37])\n",
            "Embedded claims shape\n",
            "torch.Size([50, 42])\n",
            "Embedded evidences shape\n",
            "torch.Size([50, 42])\n",
            "Merged shape\n",
            "torch.Size([50, 42])\n",
            "Actual output shape\n",
            "torch.Size([50, 1])\n"
          ]
        },
        {
          "output_type": "display_data",
          "data": {
            "image/png": "[encoded data removed]",
            "text/plain": [
              "<Figure size 432x288 with 1 Axes>"
            ]
          },
          "metadata": {
            "needs_background": "light"
          }
        },
        {
          "output_type": "stream",
          "name": "stdout",
          "text": [
            "\n",
            "==============================\n",
            "SET: rnn_mean, M: mean, C: True\n",
            "==============================\n",
            "\n",
            "Input shape\n",
            "torch.Size([2, 26, 50, 37])\n",
            "Output shape\n",
            "torch.Size([50, 1])\n",
            "Claims shape\n",
            "torch.Size([26, 50, 37])\n",
            "Evidences shape\n",
            "torch.Size([26, 50, 37])\n",
            "Embedded claims shape\n",
            "torch.Size([50, 42])\n",
            "Embedded evidences shape\n",
            "torch.Size([50, 42])\n",
            "Merged shape\n",
            "torch.Size([50, 43])\n",
            "Actual output shape\n",
            "torch.Size([50, 1])\n"
          ]
        },
        {
          "output_type": "display_data",
          "data": {
            "image/png": "[encoded data removed]",
            "text/plain": [
              "<Figure size 432x288 with 1 Axes>"
            ]
          },
          "metadata": {
            "needs_background": "light"
          }
        },
        {
          "output_type": "stream",
          "name": "stdout",
          "text": [
            "\n",
            "==============================\n",
            "SET: rnn_mean, M: sum, C: False\n",
            "==============================\n",
            "\n",
            "Input shape\n",
            "torch.Size([2, 26, 50, 37])\n",
            "Output shape\n",
            "torch.Size([50, 1])\n",
            "Claims shape\n",
            "torch.Size([26, 50, 37])\n",
            "Evidences shape\n",
            "torch.Size([26, 50, 37])\n",
            "Embedded claims shape\n",
            "torch.Size([50, 42])\n",
            "Embedded evidences shape\n",
            "torch.Size([50, 42])\n",
            "Merged shape\n",
            "torch.Size([50, 42])\n",
            "Actual output shape\n",
            "torch.Size([50, 1])\n"
          ]
        },
        {
          "output_type": "display_data",
          "data": {
            "image/png": "[encoded data removed]",
            "text/plain": [
              "<Figure size 432x288 with 1 Axes>"
            ]
          },
          "metadata": {
            "needs_background": "light"
          }
        },
        {
          "output_type": "stream",
          "name": "stdout",
          "text": [
            "\n",
            "==============================\n",
            "SET: rnn_mean, M: sum, C: True\n",
            "==============================\n",
            "\n",
            "Input shape\n",
            "torch.Size([2, 26, 50, 37])\n",
            "Output shape\n",
            "torch.Size([50, 1])\n",
            "Claims shape\n",
            "torch.Size([26, 50, 37])\n",
            "Evidences shape\n",
            "torch.Size([26, 50, 37])\n",
            "Embedded claims shape\n",
            "torch.Size([50, 42])\n",
            "Embedded evidences shape\n",
            "torch.Size([50, 42])\n",
            "Merged shape\n",
            "torch.Size([50, 43])\n",
            "Actual output shape\n",
            "torch.Size([50, 1])\n"
          ]
        },
        {
          "output_type": "display_data",
          "data": {
            "image/png": "[encoded data removed]",
            "text/plain": [
              "<Figure size 432x288 with 1 Axes>"
            ]
          },
          "metadata": {
            "needs_background": "light"
          }
        },
        {
          "output_type": "stream",
          "name": "stdout",
          "text": [
            "\n",
            "==============================\n",
            "SET: mlp, M: concat, C: False\n",
            "==============================\n",
            "\n",
            "Input shape\n",
            "torch.Size([2, 26, 50, 37])\n",
            "Output shape\n",
            "torch.Size([50, 1])\n",
            "Claims shape\n",
            "torch.Size([26, 50, 37])\n",
            "Evidences shape\n",
            "torch.Size([26, 50, 37])\n",
            "Embedded claims shape\n",
            "torch.Size([50, 42])\n",
            "Embedded evidences shape\n",
            "torch.Size([50, 42])\n",
            "Merged shape\n",
            "torch.Size([50, 84])\n",
            "Actual output shape\n",
            "torch.Size([50, 1])\n"
          ]
        },
        {
          "output_type": "display_data",
          "data": {
            "image/png": "[encoded data removed]",
            "text/plain": [
              "<Figure size 432x288 with 1 Axes>"
            ]
          },
          "metadata": {
            "needs_background": "light"
          }
        },
        {
          "output_type": "stream",
          "name": "stdout",
          "text": [
            "\n",
            "==============================\n",
            "SET: mlp, M: concat, C: True\n",
            "==============================\n",
            "\n",
            "Input shape\n",
            "torch.Size([2, 26, 50, 37])\n",
            "Output shape\n",
            "torch.Size([50, 1])\n",
            "Claims shape\n",
            "torch.Size([26, 50, 37])\n",
            "Evidences shape\n",
            "torch.Size([26, 50, 37])\n",
            "Embedded claims shape\n",
            "torch.Size([50, 42])\n",
            "Embedded evidences shape\n",
            "torch.Size([50, 42])\n",
            "Merged shape\n",
            "torch.Size([50, 85])\n",
            "Actual output shape\n",
            "torch.Size([50, 1])\n"
          ]
        },
        {
          "output_type": "display_data",
          "data": {
            "image/png": "[encoded data removed]",
            "text/plain": [
              "<Figure size 432x288 with 1 Axes>"
            ]
          },
          "metadata": {
            "needs_background": "light"
          }
        },
        {
          "output_type": "stream",
          "name": "stdout",
          "text": [
            "\n",
            "==============================\n",
            "SET: mlp, M: mean, C: False\n",
            "==============================\n",
            "\n",
            "Input shape\n",
            "torch.Size([2, 26, 50, 37])\n",
            "Output shape\n",
            "torch.Size([50, 1])\n",
            "Claims shape\n",
            "torch.Size([26, 50, 37])\n",
            "Evidences shape\n",
            "torch.Size([26, 50, 37])\n",
            "Embedded claims shape\n",
            "torch.Size([50, 42])\n",
            "Embedded evidences shape\n",
            "torch.Size([50, 42])\n",
            "Merged shape\n",
            "torch.Size([50, 42])\n",
            "Actual output shape\n",
            "torch.Size([50, 1])\n"
          ]
        },
        {
          "output_type": "display_data",
          "data": {
            "image/png": "[encoded data removed]",
            "text/plain": [
              "<Figure size 432x288 with 1 Axes>"
            ]
          },
          "metadata": {
            "needs_background": "light"
          }
        },
        {
          "output_type": "stream",
          "name": "stdout",
          "text": [
            "\n",
            "==============================\n",
            "SET: mlp, M: mean, C: True\n",
            "==============================\n",
            "\n",
            "Input shape\n",
            "torch.Size([2, 26, 50, 37])\n",
            "Output shape\n",
            "torch.Size([50, 1])\n",
            "Claims shape\n",
            "torch.Size([26, 50, 37])\n",
            "Evidences shape\n",
            "torch.Size([26, 50, 37])\n",
            "Embedded claims shape\n",
            "torch.Size([50, 42])\n",
            "Embedded evidences shape\n",
            "torch.Size([50, 42])\n",
            "Merged shape\n",
            "torch.Size([50, 43])\n",
            "Actual output shape\n",
            "torch.Size([50, 1])\n"
          ]
        },
        {
          "output_type": "display_data",
          "data": {
            "image/png": "[encoded data removed]",
            "text/plain": [
              "<Figure size 432x288 with 1 Axes>"
            ]
          },
          "metadata": {
            "needs_background": "light"
          }
        },
        {
          "output_type": "stream",
          "name": "stdout",
          "text": [
            "\n",
            "==============================\n",
            "SET: mlp, M: sum, C: False\n",
            "==============================\n",
            "\n",
            "Input shape\n",
            "torch.Size([2, 26, 50, 37])\n",
            "Output shape\n",
            "torch.Size([50, 1])\n",
            "Claims shape\n",
            "torch.Size([26, 50, 37])\n",
            "Evidences shape\n",
            "torch.Size([26, 50, 37])\n",
            "Embedded claims shape\n",
            "torch.Size([50, 42])\n",
            "Embedded evidences shape\n",
            "torch.Size([50, 42])\n",
            "Merged shape\n",
            "torch.Size([50, 42])\n",
            "Actual output shape\n",
            "torch.Size([50, 1])\n"
          ]
        },
        {
          "output_type": "display_data",
          "data": {
            "image/png": "[encoded data removed]",
            "text/plain": [
              "<Figure size 432x288 with 1 Axes>"
            ]
          },
          "metadata": {
            "needs_background": "light"
          }
        },
        {
          "output_type": "stream",
          "name": "stdout",
          "text": [
            "\n",
            "==============================\n",
            "SET: mlp, M: sum, C: True\n",
            "==============================\n",
            "\n",
            "Input shape\n",
            "torch.Size([2, 26, 50, 37])\n",
            "Output shape\n",
            "torch.Size([50, 1])\n",
            "Claims shape\n",
            "torch.Size([26, 50, 37])\n",
            "Evidences shape\n",
            "torch.Size([26, 50, 37])\n",
            "Embedded claims shape\n",
            "torch.Size([50, 42])\n",
            "Embedded evidences shape\n",
            "torch.Size([50, 42])\n",
            "Merged shape\n",
            "torch.Size([50, 43])\n",
            "Actual output shape\n",
            "torch.Size([50, 1])\n"
          ]
        },
        {
          "output_type": "display_data",
          "data": {
            "image/png": "[encoded data removed]",
            "text/plain": [
              "<Figure size 432x288 with 1 Axes>"
            ]
          },
          "metadata": {
            "needs_background": "light"
          }
        },
        {
          "output_type": "stream",
          "name": "stdout",
          "text": [
            "\n",
            "==============================\n",
            "SET: bov, M: concat, C: False\n",
            "==============================\n",
            "\n",
            "Input shape\n",
            "torch.Size([2, 26, 50, 37])\n",
            "Output shape\n",
            "torch.Size([50, 1])\n",
            "Claims shape\n",
            "torch.Size([26, 50, 37])\n",
            "Evidences shape\n",
            "torch.Size([26, 50, 37])\n",
            "Embedded claims shape\n",
            "torch.Size([50, 37])\n",
            "Embedded evidences shape\n",
            "torch.Size([50, 37])\n",
            "Merged shape\n",
            "torch.Size([50, 74])\n",
            "Actual output shape\n",
            "torch.Size([50, 1])\n"
          ]
        },
        {
          "output_type": "display_data",
          "data": {
            "image/png": "[encoded data removed]",
            "text/plain": [
              "<Figure size 432x288 with 1 Axes>"
            ]
          },
          "metadata": {
            "needs_background": "light"
          }
        },
        {
          "output_type": "stream",
          "name": "stdout",
          "text": [
            "\n",
            "==============================\n",
            "SET: bov, M: concat, C: True\n",
            "==============================\n",
            "\n",
            "Input shape\n",
            "torch.Size([2, 26, 50, 37])\n",
            "Output shape\n",
            "torch.Size([50, 1])\n",
            "Claims shape\n",
            "torch.Size([26, 50, 37])\n",
            "Evidences shape\n",
            "torch.Size([26, 50, 37])\n",
            "Embedded claims shape\n",
            "torch.Size([50, 37])\n",
            "Embedded evidences shape\n",
            "torch.Size([50, 37])\n",
            "Merged shape\n",
            "torch.Size([50, 75])\n",
            "Actual output shape\n",
            "torch.Size([50, 1])\n"
          ]
        },
        {
          "output_type": "display_data",
          "data": {
            "image/png": "[encoded data removed]",
            "text/plain": [
              "<Figure size 432x288 with 1 Axes>"
            ]
          },
          "metadata": {
            "needs_background": "light"
          }
        },
        {
          "output_type": "stream",
          "name": "stdout",
          "text": [
            "\n",
            "==============================\n",
            "SET: bov, M: mean, C: False\n",
            "==============================\n",
            "\n",
            "Input shape\n",
            "torch.Size([2, 26, 50, 37])\n",
            "Output shape\n",
            "torch.Size([50, 1])\n",
            "Claims shape\n",
            "torch.Size([26, 50, 37])\n",
            "Evidences shape\n",
            "torch.Size([26, 50, 37])\n",
            "Embedded claims shape\n",
            "torch.Size([50, 37])\n",
            "Embedded evidences shape\n",
            "torch.Size([50, 37])\n",
            "Merged shape\n",
            "torch.Size([50, 37])\n",
            "Actual output shape\n",
            "torch.Size([50, 1])\n"
          ]
        },
        {
          "output_type": "display_data",
          "data": {
            "image/png": "[encoded data removed]",
            "text/plain": [
              "<Figure size 432x288 with 1 Axes>"
            ]
          },
          "metadata": {
            "needs_background": "light"
          }
        },
        {
          "output_type": "stream",
          "name": "stdout",
          "text": [
            "\n",
            "==============================\n",
            "SET: bov, M: mean, C: True\n",
            "==============================\n",
            "\n",
            "Input shape\n",
            "torch.Size([2, 26, 50, 37])\n",
            "Output shape\n",
            "torch.Size([50, 1])\n",
            "Claims shape\n",
            "torch.Size([26, 50, 37])\n",
            "Evidences shape\n",
            "torch.Size([26, 50, 37])\n",
            "Embedded claims shape\n",
            "torch.Size([50, 37])\n",
            "Embedded evidences shape\n",
            "torch.Size([50, 37])\n",
            "Merged shape\n",
            "torch.Size([50, 38])\n",
            "Actual output shape\n",
            "torch.Size([50, 1])\n"
          ]
        },
        {
          "output_type": "display_data",
          "data": {
            "image/png": "[encoded data removed]",
            "text/plain": [
              "<Figure size 432x288 with 1 Axes>"
            ]
          },
          "metadata": {
            "needs_background": "light"
          }
        },
        {
          "output_type": "stream",
          "name": "stdout",
          "text": [
            "\n",
            "==============================\n",
            "SET: bov, M: sum, C: False\n",
            "==============================\n",
            "\n",
            "Input shape\n",
            "torch.Size([2, 26, 50, 37])\n",
            "Output shape\n",
            "torch.Size([50, 1])\n",
            "Claims shape\n",
            "torch.Size([26, 50, 37])\n",
            "Evidences shape\n",
            "torch.Size([26, 50, 37])\n",
            "Embedded claims shape\n",
            "torch.Size([50, 37])\n",
            "Embedded evidences shape\n",
            "torch.Size([50, 37])\n",
            "Merged shape\n",
            "torch.Size([50, 37])\n",
            "Actual output shape\n",
            "torch.Size([50, 1])\n"
          ]
        },
        {
          "output_type": "display_data",
          "data": {
            "image/png": "[encoded data removed]",
            "text/plain": [
              "<Figure size 432x288 with 1 Axes>"
            ]
          },
          "metadata": {
            "needs_background": "light"
          }
        },
        {
          "output_type": "stream",
          "name": "stdout",
          "text": [
            "\n",
            "==============================\n",
            "SET: bov, M: sum, C: True\n",
            "==============================\n",
            "\n",
            "Input shape\n",
            "torch.Size([2, 26, 50, 37])\n",
            "Output shape\n",
            "torch.Size([50, 1])\n",
            "Claims shape\n",
            "torch.Size([26, 50, 37])\n",
            "Evidences shape\n",
            "torch.Size([26, 50, 37])\n",
            "Embedded claims shape\n",
            "torch.Size([50, 37])\n",
            "Embedded evidences shape\n",
            "torch.Size([50, 37])\n",
            "Merged shape\n",
            "torch.Size([50, 38])\n",
            "Actual output shape\n",
            "torch.Size([50, 1])\n"
          ]
        },
        {
          "output_type": "display_data",
          "data": {
            "image/png": "[encoded data removed]",
            "text/plain": [
              "<Figure size 432x288 with 1 Axes>"
            ]
          },
          "metadata": {
            "needs_background": "light"
          }
        }
      ]
    },
    {
      "cell_type": "markdown",
      "source": [
        "# Training"
      ],
      "metadata": {
        "id": "T5mTclRAq_C0"
      }
    },
    {
      "cell_type": "code",
      "source": [
        "class Optimization:\n",
        "    def __init__(self, model, learning_rate=1e-3):\n",
        "        self.model = model\n",
        "        self.loss_fn = nn.BCELoss()\n",
        "        self.optimizer = optim.Adam(model.parameters(), lr=learning_rate)\n",
        "        self.history = []\n",
        "    \n",
        "    def train_step(self, x, y):\n",
        "        self.model.train()\n",
        "        yhat = self.model(x)\n",
        "\n",
        "        loss = self.loss_fn(yhat, y)\n",
        "        self.history.append(loss.item())\n",
        "        loss.backward()\n",
        "\n",
        "        self.optimizer.step()\n",
        "        self.optimizer.zero_grad()\n",
        "\n",
        "        return loss.item()"
      ],
      "metadata": {
        "id": "ZO1RzpK-rAxh"
      },
      "execution_count": 16,
      "outputs": []
    },
    {
      "cell_type": "code",
      "source": [
        "def training_loop(model: nn.Module, \n",
        "                  train_set: torch.utils.data.DataLoader,\n",
        "                  val_set: torch.utils.data.DataLoader,\n",
        "                  n_epochs: int,\n",
        "                  optimization: Optimization,\n",
        "                  save_path: str,\n",
        "                  load_model: bool,\n",
        "                  load_path: str,\n",
        "                  writer: SummaryWriter):\n",
        "  \n",
        "    if load_model:\n",
        "        model.load_state_dict(torch.loda(load_path))\n",
        "\n",
        "    train_acc = np.zeros(n_epochs)\n",
        "    val_acc = np.zeros(n_epochs)\n",
        "    best_acc = 0\n",
        "\n",
        "    for epoch in range(n_epochs):\n",
        "        print(f'Epoch {epoch+1}')\n",
        "\n",
        "        for data in tqdm(train_set):\n",
        "            w = data['words'].float().to(device)\n",
        "            l = data['labels'].to(device)\n",
        "            optimization.train_step(w, l)\n",
        "\n",
        "        print(f'loss:{optimization.history[epoch] : .3f}')\n",
        "        train_acc[epoch] = accuracy(model, train_set)\n",
        "        print(f'train acc:{train_acc[epoch]}')\n",
        "        val_acc[epoch] = accuracy(model, val_loader)\n",
        "        print(f'val acc:{val_acc[epoch]}')\n",
        "\n",
        "        writer.add_scalars('Loss', {\"Train\": optimization.history[epoch]}, epoch)\n",
        "        writer.add_scalars('Train Acc', {\"Train\": val_acc[epoch]}, epoch)\n",
        "        writer.add_scalars('Val Acc', {\"Train\": val_acc[epoch]}, epoch)\n",
        "        writer.flush()\n",
        "\n",
        "        if val_acc[epoch] > best_acc:\n",
        "            torch.save(model.state_dict(), save_path)\n",
        "            best_acc = val_acc[epoch]\n",
        "            print(f'Model saved at {save_path}')\n",
        "        \n",
        "    writer.close()\n",
        "    print(f'\\n Best model at epoch {np.argmax(val_acc) + 1}')"
      ],
      "metadata": {
        "id": "_0ajuQyG_pjD"
      },
      "execution_count": null,
      "outputs": []
    },
    {
      "cell_type": "markdown",
      "source": [
        "# Evaluation"
      ],
      "metadata": {
        "id": "DVOk9cxlrG65"
      }
    },
    {
      "cell_type": "code",
      "source": [
        ""
      ],
      "metadata": {
        "id": "5Qcj86KzrIRS"
      },
      "execution_count": null,
      "outputs": []
    },
    {
      "cell_type": "markdown",
      "source": [
        "# Comments/Summary"
      ],
      "metadata": {
        "id": "t-qoILrWrIvO"
      }
    },
    {
      "cell_type": "code",
      "source": [
        ""
      ],
      "metadata": {
        "id": "6jV9hxUMrJ07"
      },
      "execution_count": null,
      "outputs": []
    }
  ]
}