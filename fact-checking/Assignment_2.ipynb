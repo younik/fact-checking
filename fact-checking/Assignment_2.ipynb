{
  "nbformat": 4,
  "nbformat_minor": 0,
  "metadata": {
    "colab": {
      "name": "Assignment_2.ipynb",
      "provenance": []
    },
    "kernelspec": {
      "name": "python3",
      "display_name": "Python 3"
    }
  },
  "cells": [
    {
      "cell_type": "markdown",
      "metadata": {
        "id": "3GM9DBN-Qz3k"
      },
      "source": [
        "# Assignment 2\n",
        "\n",
        "**Due to**: 23/12/2021 (dd/mm/yyyy)\n",
        "\n",
        "**Credits**: Andrea Galassi, Federico Ruggeri, Paolo Torroni\n",
        "\n",
        "**Summary**: Fact checking, Neural Languange Inference (**NLI**)"
      ]
    },
    {
      "cell_type": "markdown",
      "metadata": {
        "id": "tO_-4CZeRCO7"
      },
      "source": [
        "# Intro\n",
        "\n",
        "This assignment is centred on a particular and emerging NLP task, formally known as **fact checking** (or fake checking). As AI techniques become more and more powerful, reaching amazing results, such as image and text generation, it is more than ever necessary to build tools able to distinguish what is real from what is fake.\n",
        "\n",
        "Here we focus on a small portion of the whole fact checking problem, which aims to determine whether a given statement (fact) conveys a trustworthy information or not. \n",
        "\n",
        "More precisely, given a set of evidences and a fact to verify, we would like our model to correctly predict whether the fact is true or fake.\n",
        "\n",
        "In particular, we will see:\n",
        "\n",
        "*   Dataset preparation (analysis and pre-processing)\n",
        "*   Problem formulation: multi-input binary classification\n",
        "*   Defining an evaluation method\n",
        "*   Simple sentence embedding\n",
        "*   Neural building blocks\n",
        "*   Neural architecture extension"
      ]
    },
    {
      "cell_type": "markdown",
      "metadata": {
        "id": "hGDwg78PS_uy"
      },
      "source": [
        "# The FEVER dataset\n",
        "\n",
        "First of all, we need to choose a dataset. In this assignment we will rely on the [FEVER dataset](https://fever.ai).\n",
        "\n",
        "The dataset is about facts taken from Wikipedia documents that have to be verified. In particular, facts could face manual modifications in order to define fake information or to give different formulations of the same concept.\n",
        "\n",
        "The dataset consists of 185,445 claims manually verified against the introductory sections of Wikipedia pages and classified as ```Supported```, ```Refuted``` or ```NotEnoughInfo```. For the first two classes, systems and annotators need to also return the combination of sentences forming the necessary evidence supporting or refuting the claim."
      ]
    },
    {
      "cell_type": "markdown",
      "metadata": {
        "id": "4Oa5FpVpT7p4"
      },
      "source": [
        "## 2.1 Dataset structure\n",
        "\n",
        "Relevant data is divided into two file types. Information concerning the fact to verify, its verdict and associated supporting/opposing statements are stored in **.jsonl** format. In particular, each JSON element is a python dictionary with the following relevant fields:\n",
        "\n",
        "*    **ID**: ID associated to the fact to verify.\n",
        "\n",
        "*    **Verifiable**: whether the fact has been verified or not: ```VERIFIABLE``` or ```NOT VERIFIABLE```.\n",
        "    \n",
        "*    **Label**: the final verdict on the fact to verify: ```SUPPORTS```, ```REFUTES``` or ```NOT ENOUGH INFO```.\n",
        "    \n",
        "*    **Claim**: the fact to verify.\n",
        "    \n",
        "*    **Evidence**: a nested list of document IDs along with the sentence ID that is associated to the fact to verify. In particular, each list element is a tuple of four elements: the first two are internal annotator IDs that can be safely ignored; the third term is the document ID (called URL) and the last one is the sentence number (ID) in the pointed document to consider.\n",
        "\n",
        "**Some Examples**\n",
        "\n",
        "---\n",
        "\n",
        "**Verifiable**\n",
        "\n",
        "```\n",
        "{\"id\": 202314, \"verifiable\": \"VERIFIABLE\", \"label\": \"REFUTES\", \"claim\": \"The New Jersey Turnpike has zero shoulders.\", \"evidence\": [[[238335, 240393, \"New_Jersey_Turnpike\", 15]]]}\n",
        "```\n",
        "\n",
        "---\n",
        "\n",
        "**Not Verifiable**\n",
        "\n",
        "```\n",
        "{\"id\": 113501, \"verifiable\": \"NOT VERIFIABLE\", \"label\": \"NOT ENOUGH INFO\", \"claim\": \"Grease had bad reviews.\", \"evidence\": [[[133128, null, null, null]]]}\n",
        "```\n",
        "\n",
        "---"
      ]
    },
    {
      "cell_type": "markdown",
      "metadata": {
        "id": "nex_8UM4VWuY"
      },
      "source": [
        "## 2.2 Some simplifications and pre-processing\n",
        "\n",
        "We are only interested in verifiable facts. Thus, we can filter out all non-verifiable claims.\n",
        "\n",
        "Additionally, the current dataset format does not contain all necessary information for our classification purposes. In particular, we need to download Wikipedia documents and replace reported evidence IDs with the corresponding text.\n",
        "\n",
        "Don't worry about that! We are providing you the already pre-processed dataset so that you can concentrate on the classification pipeline (pre-processing, model definition, evaluation and training).\n",
        "\n",
        "You can download the zip file containing all set splits (train, validation and test) of the FEVER dataset by clicking on this [link](https://drive.google.com/file/d/1wArZhF9_SHW17WKNGeLmX-QTYw9Zscl1/view?usp=sharing). Alternatively, run the below code cell to automatically download it on this notebook.\n",
        "\n",
        "**Note**: each dataset split is in .csv format. Feel free to inspect the whole dataset!"
      ]
    },
    {
      "cell_type": "code",
      "metadata": {
        "id": "BspxZcRjW0NG",
        "outputId": "2d31d4ee-f430-4876-e1b6-f1a493463a5f",
        "colab": {
          "base_uri": "https://localhost:8080/"
        }
      },
      "source": [
        "import os\n",
        "import requests\n",
        "import zipfile\n",
        "\n",
        "def save_response_content(response, destination):\n",
        "    CHUNK_SIZE = 32768\n",
        "\n",
        "    with open(destination, \"wb\") as f:\n",
        "        for chunk in response.iter_content(CHUNK_SIZE):\n",
        "            if chunk: # filter out keep-alive new chunks\n",
        "                f.write(chunk)\n",
        "\n",
        "def download_data(data_path):\n",
        "    toy_data_path = os.path.join(data_path, 'fever_data.zip')\n",
        "    toy_data_url_id = \"1wArZhF9_SHW17WKNGeLmX-QTYw9Zscl1\"\n",
        "    toy_url = \"https://docs.google.com/uc?export=download\"\n",
        "\n",
        "    if not os.path.exists(data_path):\n",
        "        os.makedirs(data_path)\n",
        "\n",
        "    if not os.path.exists(toy_data_path):\n",
        "        print(\"Downloading FEVER data splits...\")\n",
        "        with requests.Session() as current_session:\n",
        "            response = current_session.get(toy_url,\n",
        "                                   params={'id': toy_data_url_id},\n",
        "                                   stream=True)\n",
        "        save_response_content(response, toy_data_path)\n",
        "        print(\"Download completed!\")\n",
        "\n",
        "        print(\"Extracting dataset...\")\n",
        "        with zipfile.ZipFile(toy_data_path) as loaded_zip:\n",
        "            loaded_zip.extractall(data_path)\n",
        "        print(\"Extraction completed!\")\n",
        "\n",
        "download_data('dataset')"
      ],
      "execution_count": 4,
      "outputs": [
        {
          "output_type": "stream",
          "name": "stdout",
          "text": [
            "Downloading FEVER data splits...\n",
            "Download completed!\n",
            "Extracting dataset...\n",
            "Extraction completed!\n"
          ]
        }
      ]
    },
    {
      "cell_type": "markdown",
      "metadata": {
        "id": "RbH_8errW5MH"
      },
      "source": [
        "# Classification dataset\n",
        "\n",
        "At this point, you should have a reay-to-go dataset! Note that the dataset format changed as well! In particular, we split the evidence set associated to each claim, in order to build `(claim, evidence)` pairs. The classification label is propagated as well.\n",
        "\n",
        "We'll motivate this decision in the next section!\n",
        "\n",
        "Just for clarity, here's an example of the pre-processed dataset:\n",
        "\n",
        "---\n",
        "\n",
        "**Claim**: \"Wentworth Miller is yet to make his screenwriting debut.\"\n",
        "\n",
        "**Evidence**: \"2\tHe made his screenwriting debut with the 2013 thriller film Stoker .\tStoker\tStoker (film)\"\n",
        "\n",
        "**Label**: Refutes\n",
        "\n",
        "---\n",
        "\n",
        "[**Note**]: The dataset requires some text cleaning as you may have noticed!\n"
      ]
    },
    {
      "cell_type": "code",
      "metadata": {
        "id": "RCSlRwUHZd1H"
      },
      "source": [
        "import pandas as pd\n",
        "import re"
      ],
      "execution_count": null,
      "outputs": []
    },
    {
      "cell_type": "code",
      "metadata": {
        "id": "6QkE0QF_ZZFW"
      },
      "source": [
        "train_set = pd.read_csv('dataset/train_pairs.csv')"
      ],
      "execution_count": null,
      "outputs": []
    },
    {
      "cell_type": "code",
      "metadata": {
        "id": "MBsmdmxOmCU4"
      },
      "source": [
        "train_set['Evidence'] = train_set['Evidence'].transform(lambda x : re.sub('-LSB-?(.*?)-RSB-', '', x)) # It deletes characters used to explain pronunciation of words\n",
        "train_set['Evidence'] = train_set['Evidence'].transform(lambda x : x.replace('-LRB-', ''))\n",
        "train_set['Evidence'] = train_set['Evidence'].transform(lambda x : x.replace('-RRB-', ''))\n",
        "#train_set['Evidence'] = train_set['Evidence'].transform(lambda x : x.replace('-LSB-', ''))\n",
        "#train_set['Evidence'] = train_set['Evidence'].transform(lambda x : x.replace('-RSB-', ''))\n",
        "train_set['Evidence'] = train_set['Evidence'].transform(lambda x : x[x.find('\\t')+1 : x.find('.')+1])"
      ],
      "execution_count": null,
      "outputs": []
    },
    {
      "cell_type": "code",
      "metadata": {
        "id": "3BuPe5iK5nQG"
      },
      "source": [
        "# All the rows with the same ID have the same claim but different evidences\n",
        "train_grouped = train_set.groupby(by='ID') "
      ],
      "execution_count": null,
      "outputs": []
    },
    {
      "cell_type": "markdown",
      "metadata": {
        "id": "gH8hIK21Xrl0"
      },
      "source": [
        "# Problem formulation\n",
        "\n",
        "As mentioned at the beginning of the assignment, we are going to formulate the fact checking problem as a binary classification task.\n",
        "\n",
        "In particular, each dataset sample is comprised of:\n",
        "\n",
        "*     A claim to verify\n",
        "*     A set of semantically related statements (evidence set)\n",
        "*     Fact checking label: either evidences support or refute the claim.\n",
        "\n",
        "Handling the evidence set from the point of view of neural models may imply some additional complexity: if the evidence set is comprised of several sentences we might incur in memory problems.\n",
        "\n",
        "To this end, we further simplify the problem by building (claim, evidence) pairs. The fact checking label is propagated as well.\n",
        "\n",
        "Example:\n",
        "\n",
        "     Claim: c1 \n",
        "     Evidence set: [e1, e2, e3]\n",
        "     Label: S (support)\n",
        "\n",
        "--->\n",
        "\n",
        "    (c1, e1, S),\n",
        "    (c1, e2, S),\n",
        "    (c1, e3, S)"
      ]
    },
    {
      "cell_type": "markdown",
      "metadata": {
        "id": "E46flIz_zQy-"
      },
      "source": [
        "## 4.1 Schema\n",
        "\n",
        "The overall binary classification problem is summed up by the following (simplified) schema\n",
        "\n",
        "![](https://drive.google.com/uc?export=view&id=1Wm_YBnFwgJtxcWEBpPbTBEVkpKaL08Jp)\n",
        "\n",
        "Don't worry too much about the **Encoding** block for now. We'll give you some simple guidelines about its definition. For the moment, stick to the binary classification task definition where, in this case, we have 2 inputs: the claim to verify and one of its associated evidences."
      ]
    },
    {
      "cell_type": "markdown",
      "metadata": {
        "id": "LsiTV-NVdgsF"
      },
      "source": [
        "# Architecture Guidelines\n",
        "\n",
        "There are many neural architectures that follow the above schema. To avoid phenomena like the writer's block, in this section we are going to give you some implementation guidelines.\n",
        "\n",
        "In particular, we would like you to test some implementations so that you explore basic approaches (neural baselines) and use them as building blocks for possible extensions."
      ]
    },
    {
      "cell_type": "markdown",
      "metadata": {
        "id": "ZJBQm47fe7iE"
      },
      "source": [
        "## 5.1 Handling multiple inputs\n",
        "\n",
        "The first thing to notice is that we are in a multi-input scenario. In particular, each sample is comprised of a fact and its asssociated evidence statement.\n",
        "\n",
        "Each of these input is encoded as a sequence of tokens. In particular, we will have the following input matrices:\n",
        "\n",
        "*    Claim: `[batch_size, max_tokens]`\n",
        "*    Evidence: `[batch_size, max_tokens]`\n",
        "\n",
        "Moreover, after the embedding layer, we'll have:\n",
        "\n",
        "*    Claim: `[batch_size, max_tokens, embedding_dim]`\n",
        "*    Evidence: `[batch_size, max_tokens, embedding_dim]`\n",
        "\n",
        "But, we would like to have a 2D input to our classifier, since we have to give an answer at pair level. Therefore, for each sample, we would expect the following input shape to our classification block:\n",
        "\n",
        "*   Classification input shape: `[batch_size, dim]`\n",
        "\n",
        "**How to do that?**\n",
        "\n",
        "We inherently need to reduce the token sequence to a single representation. This operation is formally known as **sentence embedding**. Indeed, we are trying to compress the information of a whole sequence into a single embedding vector.\n",
        "\n",
        "Here are some simple solutions that we ask you to try out:\n",
        "\n",
        "1.   Encode token sequences via a RNN and take the last state as the sentence embedding.\n",
        "\n",
        "2.  Encode token sequences via a RNN and average all the output states.\n",
        "\n",
        "3.  Encode token sequences via a simple MLP layer. In particular, if your input is a `[batch_size, max_tokens, embedding_dim]` tensor, the matrix multiplication works on the **max_tokens** dimension, resulting in a `[batch_size, embedding_dim]` 2D matrix. Alternatively, you can reshape the 3D input tensor from `[batch_size, max_tokens, embedding_dim]` to `[batch_size, max_tokens * embedding_dim]` and then apply the MLP layer.\n",
        "\n",
        "4.   Compute the sentence embedding as the mean of its token embeddings (**bag of vectors**)."
      ]
    },
    {
      "cell_type": "markdown",
      "metadata": {
        "id": "Gypl5z5ElJo1"
      },
      "source": [
        "## 5.2 Merging multi-inputs\n",
        "\n",
        "At this point, we have to think about **how** we should merge evidence and claim sentence embeddings.\n",
        "\n",
        "For simplicity, we stick to simple merging strategies:\n",
        "\n",
        "*     **Concatenation**: define the classification input as the concatenation of evidence and claim sentence embeddings\n",
        "\n",
        "*     **Sum**: define the classification input as the sum of evidence and claim sentence embeddings\n",
        "\n",
        "*     **Mean**: define the classification input as the mean of evidence and claim sentence embeddings\n",
        "\n",
        "For clarity, if the sentence embedding of a single input has shape `[batch_size, embedding_dim]`, then the classification input has shape:\n",
        "\n",
        "*     **Concatenation**: `[batch_size, 2 * embedding_dim]`\n",
        "\n",
        "*     **Sum**: `[batch_size, embedding_dim]`\n",
        "\n",
        "*     **Mean**: `[batch_size, embedding_dim]`"
      ]
    },
    {
      "cell_type": "markdown",
      "metadata": {
        "id": "IhVg9ZLymOUc"
      },
      "source": [
        "# A simple extension\n",
        "\n",
        "Lastly, we ask you to modify previously defined neural architectures by adding an additional feature to the classification input.\n",
        "\n",
        "We would like to see if some similarity information between the claim to verify and one of its associated evidence might be useful to the classification.\n",
        "\n",
        "Compute the cosine similarity metric between the two sentence embeddings and concatenate the result to the classification input.\n",
        "\n",
        "For clarity, since the cosine similarity of two vectors outputs a scalar value, the classification input shape is modified as follows:\n",
        "\n",
        "*     **Concatenation**: `[batch_size, 2 * embedding_dim + 1]`\n",
        "\n",
        "*     **Sum**: `[batch_size, embedding_dim + 1]`\n",
        "\n",
        "*     **Mean**: `[batch_size, embedding_dim + 1]`\n",
        "\n"
      ]
    },
    {
      "cell_type": "markdown",
      "metadata": {
        "id": "Nd74ULgpnJrc"
      },
      "source": [
        "# Performance evaluation\n",
        "\n",
        "Due to our simplifications, obtained results are not directly compatible with a traditional fact checking method that considers the evidence set as a whole.\n",
        "\n",
        "Thus, we need to consider two types of evaluations.\n",
        "\n",
        "---\n",
        "\n",
        "A. **Multi-input classification evaluation**\n",
        "\n",
        "This type of evaluation is the easiest and concerns computing evaluation metrics, such as accuracy, f1-score, recall and precision, of our pre-processed dataset.\n",
        "\n",
        "In other words, we assess the performance of chosen classifiers.\n",
        "\n",
        "---\n",
        "\n",
        "B. **Claim verification evaluation**\n",
        "\n",
        "However, if we want to give an answer concerning the claim itself, we need to consider the whole evidence set. \n",
        "\n",
        "Intuitively, for a given claim, we consider all its corresponding (claim, evidence) pairs and their corresponding classification outputs. \n",
        "\n",
        "At this point, all we need to do is to compute the final predicted claim label via majority voting.\n",
        "\n",
        "---\n",
        "\n",
        "Example:\n",
        "\n",
        "    Claim: c1\n",
        "    Evidence set: e1, e2, e3\n",
        "    True label: S\n",
        "\n",
        "    Pair outputs:\n",
        "    (c1, e1) -> S (supports)\n",
        "    (c1, e2) -> S (supports)\n",
        "    (c1, e3) -> R (refutes)\n",
        "\n",
        "    Majority voting:\n",
        "    S -> 2 votes\n",
        "    R -> 1 vote\n",
        "\n",
        "    Final label:\n",
        "    c1 -> S\n",
        "\n",
        "Lastly, we have to compute classification metrics just like before.\n",
        "\n",
        "Shortly speaking, implement both strategies for your classification metrics."
      ]
    },
    {
      "cell_type": "markdown",
      "metadata": {
        "id": "W4LJ2yPxsUOV"
      },
      "source": [
        "# Tips and Extras"
      ]
    },
    {
      "cell_type": "markdown",
      "metadata": {
        "id": "Uf80UVRNrXve"
      },
      "source": [
        "## 8.1 Extensions are welcome!\n",
        "\n",
        "Is this task too easy for you? Are you curious to try out things you have seen during lectures (e.g. attention)? Feel free to try everything you want!\n",
        "\n",
        "**Don't forget to try neural baselines first!**"
      ]
    },
    {
      "cell_type": "markdown",
      "metadata": {
        "id": "COXeCXdYsBEf"
      },
      "source": [
        "## 8.2 Comments and documentation\n",
        "\n",
        "Remember to properly comment your code (it is not necessary to comment each single line) and don't forget to describe your work!"
      ]
    },
    {
      "cell_type": "markdown",
      "metadata": {
        "id": "Ejv6SDE8xc4_"
      },
      "source": [
        "## 8.3 Organization\n",
        "\n",
        "We suggest you to divide your work into sections. This allows you to build clean and modular code, as well as easy to read and to debug.\n",
        "\n",
        "A possible schema:\n",
        "\n",
        "*   Dataset pre-processing\n",
        "*   Dataset conversion\n",
        "*   Model definition\n",
        "*   Training\n",
        "*   Evaluation\n",
        "*   Comments/Summary"
      ]
    },
    {
      "cell_type": "markdown",
      "metadata": {
        "id": "19QWjgGzIKOq"
      },
      "source": [
        "# Evaluation\n",
        "\n",
        "Which are the evaluation criteria on which we'll judge you and your work?\n",
        "\n",
        "1. Pre-processing: whether you have done some pre-processing or not.\n",
        "2. Sentence embedding: you should implement all required strategies (with an example and working code for each). That is, we, as evaluators, should be able to test all strategies without writing down new code.\n",
        "3. Multiple inputs merging strategies: you should implement all required strategies (with an example and working code for each).\n",
        "4. Similarity extension: you should implement the cosine similarity extension (with an example and working code).\n",
        "5. Voting strategy: you should implement the majority voting strategy and provide results.\n",
        "6. Report: when submitting your notebook, you should also attach a small summary report that describes what you have done (provide motivations as well for abitrary steps. For instance, \"We've applied L2 regularization since the model was overfitting\".\n",
        "\n",
        "Extras (possible extra points):\n",
        "\n",
        "1. Any well defined extension is welcome!\n",
        "2. Well organized and commented code is as important as any other criteria."
      ]
    },
    {
      "cell_type": "markdown",
      "metadata": {
        "id": "9DR70uh7pabo"
      },
      "source": [
        "# Contact\n",
        "\n",
        "For any doubt, question, issue or help, you can always contact us at the following email addresses:\n",
        "\n",
        "Teaching Assistants:\n",
        "\n",
        "* Andrea Galassi -> a.galassi@unibo.it\n",
        "* Federico Ruggeri -> federico.ruggeri6@unibo.it\n",
        "\n",
        "Professor:\n",
        "\n",
        "* Paolo Torroni -> p.torroni@unibo.it\n",
        "\n",
        "*Note*: We highly recommend you to check the [course useful material](https://virtuale.unibo.it/pluginfile.php/1036039/mod_resource/content/2/NLP_Course_Useful_Material.pdf) for additional information before contacting us!"
      ]
    },
    {
      "cell_type": "markdown",
      "metadata": {
        "id": "Jc0gNWU2pgKQ"
      },
      "source": [
        "# FAQ\n",
        "\n",
        "---\n",
        "\n",
        "**Question**: Can I do something text pre-processing?\n",
        "\n",
        "**Answer:** You have to! If you check text data, the majority of sentences need some cleaning.\n",
        "\n",
        "---\n",
        "\n",
        "**Question**: The model architecture schema is not so clear, are we doing end-to-end training?\n",
        "\n",
        "**Answer**: Exactly! All models can be thought as:\n",
        "\n",
        "1. Input\n",
        "2. (word) Embedding\n",
        "3. Sentence embedding\n",
        "4. Multiple inputs merging\n",
        "5. Classification\n",
        "\n",
        "---\n",
        "\n",
        "**Question**: Can I extend models by adding more layers?\n",
        "\n",
        "**Answer**: Feel free to define model architectures as you wish, but remember satisfy our requirements. This assignment should not be thought as a competition to achieve the best performing model: fancy students that want to show off but miss required assignment objectives will be punished!!\n",
        "\n",
        "---\n",
        "\n",
        "**Question**: I'm struggling with the implementation. Can you help me?\n",
        "\n",
        "**Answer**: Yes sure! Contact us and describe your issue. If you are looking for a particular type of operation, you can easily check the documentation of the deep learning framework you are using (google is your friend).\n",
        "\n",
        "---\n",
        "\n",
        "**Question**: Can I try other encoding strategies or neural architectures?\n",
        "\n",
        "**Answer:** Absolutely! Remember to try out recommended neural baselines first and only then proceed with your extensions.\n",
        "\n",
        "---\n",
        "\n",
        "**Question**: Do we have to test all possible sentence embedding and input merging combinations?\n",
        "\n",
        "**Answer**: Absolutely no! Feel free to pick one sentence embedding strategy and try all possible input merging strategies with it! For instance, pick the best performing sentence embedding method and proceed with next steps (extras included). Please, note that you still have to implement all mentioned strategies!\n",
        "\n",
        "---\n",
        "\n",
        "**Question**: I'm hitting out of memory error when training my models, do you have any suggestions?\n",
        "\n",
        "**Answer**: Here are some common workarounds:\n",
        "\n",
        "1. Try decreasing the mini-batch size\n",
        "2. Try applying a different padding strategy (if you are applying padding): e.g. use quantiles instead of maximum sequence length\n",
        "3. Check the efficiency of your custom code implementation (if any)\n",
        "4. Try to define same length mini-batches to avoid padding (**It should not be necessary here!**)\n",
        "\n",
        "---\n",
        "\n",
        "**Question**: I'm hitting CUDNN_STATUS_BAD_PARAM error! What I'm doing wrong?\n",
        "\n",
        "**Answer**: This error is a little bit tricky since the stack trace is not meaningful at all! This error occurs when the RNN is fed with a sequence of all 0s and pad masking is enabled (e.g. from the embedding layer). Please, check your conversion step, since there might be an error that leads to the encoding of a sentence to all 0s.\n",
        "\n",
        "---"
      ]
    },
    {
      "cell_type": "markdown",
      "source": [
        "# Solution"
      ],
      "metadata": {
        "id": "ng8wZHWxqibq"
      }
    },
    {
      "cell_type": "code",
      "source": [
        "import os\n",
        "import pandas as pd\n",
        "import numpy as np\n",
        "import matplotlib.pyplot as plt\n",
        "import csv\n",
        "\n",
        "import torch\n",
        "import torch.nn as nn\n",
        "import torch.optim as optim\n",
        "\n",
        "from torch.utils.data import Dataset, DataLoader\n",
        "from torch.utils.tensorboard import SummaryWriter\n",
        "\n",
        "from sklearn.preprocessing import OneHotEncoder, OrdinalEncoder\n",
        "\n",
        "from tqdm import tqdm\n",
        "\n",
        "import gensim\n",
        "import gensim.downloader as gloader\n",
        "\n",
        "from typing import List, Dict, Any, Callable\n",
        "\n",
        "device = torch.device(\"cuda\" if torch.cuda.is_available() else \"cpu\")"
      ],
      "metadata": {
        "id": "fgDBPnRfqhYo"
      },
      "execution_count": 5,
      "outputs": []
    },
    {
      "cell_type": "markdown",
      "source": [
        "## Tensorboard"
      ],
      "metadata": {
        "id": "Pl2XqDs9qr4a"
      }
    },
    {
      "cell_type": "code",
      "source": [
        "%load_ext tensorboard\n",
        "%tensorboard --logdir=\"logs\""
      ],
      "metadata": {
        "id": "_LIGDnS4qtTX"
      },
      "execution_count": null,
      "outputs": []
    },
    {
      "cell_type": "markdown",
      "source": [
        "# Dataset pre-processing"
      ],
      "metadata": {
        "id": "cwO5g7mGqz35"
      }
    },
    {
      "cell_type": "code",
      "metadata": {
        "id": "tqmlAreMrVL1"
      },
      "source": [
        "train_set = pd.read_csv('dataset/train_pairs.csv', index_col=0)\n",
        "val_set = pd.read_csv('dataset/val_pairs.csv', index_col=0)\n",
        "test_set = pd.read_csv('dataset/test_pairs.csv', index_col=0)"
      ],
      "execution_count": 19,
      "outputs": []
    },
    {
      "cell_type": "code",
      "source": [
        "def banned_char(allowed_char: str, dataset:pd.DataFrame):\n",
        "\n",
        "  all_char = set()\n",
        "  banned_list = []\n",
        "\n",
        "  for i in range(len(dataset)):\n",
        "    all_char = set.union(all_char, set(dataset.iloc[i]))\n",
        "\n",
        "\n",
        "  for item in all_char:\n",
        "    if not item in allowed_char:\n",
        "      banned_list.append(item)\n",
        "\n",
        "  return banned_list"
      ],
      "metadata": {
        "id": "lqT97a-BbBSy"
      },
      "execution_count": 82,
      "outputs": []
    },
    {
      "cell_type": "code",
      "source": [
        "banned_list = banned_char(allowed_char, train_set['Evidence'])\n",
        "print(banned_list)"
      ],
      "metadata": {
        "id": "RMWbZKHXaSuC",
        "outputId": "6bb397a2-51db-4055-f729-f00145038e88",
        "colab": {
          "base_uri": "https://localhost:8080/"
        }
      },
      "execution_count": 83,
      "outputs": [
        {
          "output_type": "stream",
          "name": "stdout",
          "text": [
            "['າ', 'ц', 'ṗ', 'ا', 'ꜣ', 'ⵓ', 'Ɛ', 'ま', 'ु', 'ˤ', 'ם', 'ק', 'о', '首', 'س', 'ח', 'õ', '레', 'ö', 'ï', 'ድ', 'ы', 'ⵙ', 'ܹ', 'ў', 'כ', 'ɝ', 'ੀ', 'स', '바', 'ዲ', 'ก', '타', 'י', '‿', 'य', '列', '울', '$', 'ต', 'Қ', 'ܫ', 'م', 'Ō', '생', 'Ό', 'ɤ', 'ψ', 'ر', 'ܛ', 'ו', 'ʐ', '빅', 'ศ', 'Κ', 'ⲁ', 'ഹ', 'ʎ', 'е', 'ז', '*', 'ڤ', '國', 'ᾶ', 'ɮ', '̞', '枢', 'ព', 'й', 'ू', '्', '團', '버', 'İ', '피', 'अ', 'ِ', 'Ç', 'ێ', 'ช', 'ְ', 'ፐ', 'ŋ', 'Ю', 'ग', 'ຕ', 'ထ', 'γ', 'า', 'ν', 'ḥ', 'Ꮝ', 'æ', 'د', 'ʁ', 'り', 'ⁿ', 'ব', 'ອ', 'ɨ', 'ܡ', 'ّ', 'ⵜ', 'ɕ', 'М', 'ā', 'ُ', 'ு', 'З', '部', 'у', 'រ', 'а', 'ύ', 'ɻ', '보', 'ច', 'ْ', 'ῶ', 'ɒ', 'т', 'ܒ', 'ъ', '楚', 'ក', 'ē', 'ⵣ', 'ʒ', 'å', 'ī', 'ک', 'ᾱ', 'ⵕ', 'ট', '오', 'ɴ', 'ˡ', '삼', 'ִ', '물', 'ክ', 'ŭ', 'ẽ', 'တ', 'π', 'ນ', 'б', 'ⴳ', 'č', 'ņ', 'ⴻ', 'ⵎ', 'х', 'Ξ', 'ാ', 'ਬ', 'ɚ', 'ʑ', 'द', 'ガ', 'ໄ', 'і', 'ਪ', 'Ā', 'ʌ', 'പ', '¡', ';', 'ὖ', 'চ', '漫', '스', 'জ', 'ະ', 'ɲ', 'ዮ', '国', 'ع', '국', 'Ὀ', 'ʹ', '传', '²', 'ኢ', 'ᕗ', '贵', '차', 'ۍ', 'ɫ', 'ř', 'श', 'Š', 'Γ', 'Ü', 'ל', 'á', 'ـ', '李', 'ε', 'Č', 'ز', 'რ', 'ș', 'ച', 'ј', '‘', 'आ', 'ỹ', 'Π', '軸', '́', 'เ', 'đ', 'Ú', 'Ꮟ', 'ิ', 'Ø', 'ك', 'ო', '–', 'ı', '̰', 'இ', 'ḗ', '벳', 'レ', 'ŏ', 'ɔ', 'φ', '鸭', 'ł', 'ṭ', 'Ц', 'گ', 'ລ', 'ئ', 'ⵍ', 'ĭ', 'ҙ', 'ĩ', 'Х', 'ṇ', 'ʷ', '̪', '˥', 'ج', 'ខ', 'Е', 'ம', 'é', 'ṯ', '&', 'ט', 'ค', '݁', '\"', 'Ꮤ', '帝', 'מ', 'غ', 'ン', 'í', 'ǐ', 'ਾ', '本', 'А', 'ί', 'ਿ', 'ü', 'ไ', 'গ', '篮', '͜', 'ਜ', 'Ἶ', 'ت', 'ງ', '่', 'τ', 'ń', 'ó', '`', 'ظ', 'ⲣ', '•', 'ਤ', '钢', 'ڠ', '적', 'Δ', 'ه', '@', 'إ', 'ዊ', 'ั', 'ळ', 'ʲ', 'ส', 'я', 'ʔ', 'ध', 'ɾ', '드', '̥', 'ັ', '張', 'イ', 'ϸ', 'ص', 'ɹ', 'ရ', ':', 'ܵ', 'ˀ', 'ម', 'ד', '画', 'и', 'υ', 'ማ', 'ย', 'ì', 'ː', 'Α', 'Ђ', 'ש', 'ʋ', '़', '乔', 'ⲱ', 'ס', 'ה', 'ן', 'भ', 'ን', 'ת', 'த', '工', 'ώ', 'à', 'Ε', 'บ', 'ሎ', 'ά', 'ਮ', '皇', 'ɦ', 'с', 'נ', 'ም', 'ض', 'ˈ', 'و', 'ь', 'አ', '־', '芸', 'ഞ', '̩', 'ঙ', 'ណ', 'ɢ', 'ዴ', 'ʱ', 'ง', 'χ', 'ё', 'ق', '신', '션', 'У', 'Ж', '−', 'ழ', 'ত', 'ə', 'ة', 'ź', '̚', 'è', 'ő', 'ܥ', 'ɯ', 'န', 'Ł', '̠', 'Ᏹ', 'ō', '네', 'ษ', 'ल', 'ū', 'ທ', 'ܠ', 'ည', 'ḕ', 'Ī', '͗', '§', 'ش', '̊', '뱅', 'Λ', '명', 'ᓇ', 'Д', 'Б', 'Ἡ', 'খ', 'က', '#', 'Ꭸ', 'ร', 'ວ', 'ʻ', 'н', 'א', 'г', 'ĕ', 'ϊ', '霜', 'Ꮿ', 'ሲ', '乐', 'Ꭶ', 'ⵏ', 'क', 'ជ', 'ⵔ', 'ɬ', 'ῦ', 'ג', '̯', 'Ǝ', 'া', '͡', '_', 'ὴ', 'ச', 'ड', 'з', 'ָ', 'ю', 'ে', 'ʕ', 'फ', 'ຊ', 'С', 'য', 'ַ', 'ě', 'ܦ', 'ⵢ', 'प', 'Đ', 'أ', 'ὰ', 'ɽ', '·', 'Й', '♥', 'ज', 'ী', 'Н', '俱', 'Ꭰ', 'ë', 'ʏ', 'শ', 'Æ', 'Ζ', 'κ', 'ό', 'ብ', 'გ', 'ዳ', 'ι', 'ֵ', 'ɟ', 'ä', 'ἄ', 'ላ', 'خ', '特', 'ण', 'ⵖ', 'อ', 'ж', '+', 'ʉ', 'ǔ', 'Θ', '계', 'ი', 'П', 'ῳ', 'η', 'œ', 'ˑ', '장', 'ע', 'ن', 'ራ', 'ς', 'қ', '그', 'ပ', 'र', 'ῆ', 'ã', 'š', 'Т', 'э', 'സ', '×', 'ù', 'ɛ', 'Ä', 'Ἱ', '→', 'ɳ', '妃', 'ബ', 'ິ', 'ল', 'ß', 'ហ', 'ẋ', 'ل', 'ˠ', '\\t', 'ọ', '北', 'ф', 'ׁ', 'ğ', 'ਰ', 'ط', 'ሪ', 'ê', 'ð', 'ш', 'ô', 'α', 'စ', 'ą', 'র', 'ݢ', 'п', '벌', 'Ј', 'Г', 'ç', '성', 'ɐ', 'ा', 'Ꮎ', '雪', 'Ἑ', 'β', 'न', 'ʰ', '/', 'ɵ', 'Τ', 'ћ', 'ো', '디', 'ந', 'ܢ', 'ன', 'ħ', 'ੌ', 'ኣ', 'ณ', 'ǝ', 'θ', '੍', 'ي', 'Ó', '~', 'ਕ', '日', 'ø', 'ܟ', 'ท', 'দ', 'ᓄ', 'ч', '்', 'ү', 'ố', 'Ἴ', 'ካ', 'แ', 'К', 'မ', 'Ά', 'ɡ', 'ं', 'ר', 'ⲫ', 'в', '興', 'ῖ', 'д', '±', 'ʊ', 'р', '세', 'マ', 'ᑦ', 'ɥ', 'ት', 'ũ', 'ष', '인', 'ሞ', '‐', '=', 'Ч', '京', 'ʝ', 'ື', 'ै', 'σ', 'င', '̇', 'ม', '̃', '%', '험', '‑', 'Ꭹ', '벨', 'ट', 'ং', '녀', 'פ', 'Ṣ', '°', '열', '处', 'が', 'ܪ', 'ث', 'Σ', '噠', '눈', '切', 'É', 'Ш', '기', 'Μ', 'ⵟ', 'ɺ', '集', 'ɣ', 'ົ', 'ਖ', 'δ', 'ር', 'Ф', 'Ῥ', 'ว', 'Р', 'သ', 'ป', 'ⵉ', 'μ', '̄', 'м', 'ṣ', 'î', 'ʿ', 'Ö', '車', '엽', 'ਨ', 'ω', 'ሊ', 'ρ', 'ă', '̀', ')', 'የ', ',', 'ġ', 'ܘ', 'ቀ', 'ּ', 'ਸ', '˩', 'त', 'ʈ', 'ý', 'ܐ', 'ያ', 'В', 'ṛ', 'ذ', 'Л', '서', 'ο', 'ख', 'ǎ', '腹', 'ɑ', 'Ἀ', 'ف', 'จ', '݂', '씽', 'ய', 'ດ', 'Ḥ', 'ि', 'ⴰ', '球', 'ি', 'ح', 'Ṭ', 'ş', 'ב', 'ห', 'л', '이', 'ມ', '্', 'ب', 'ệ', 'λ', '땀', 'ਹ', '팝', 'ñ', 'े', 'ⴱ', 'ጵ', 'ສ', 'ⴷ', 'ፌ', 'ή', 'â', 'म', 'Ἰ', '嚈', 'ᵻ', 'व', 'ṃ', 'ʂ', 'ப', 'ć', 'ʾ', 'ເ', 'ܸ', 'ἡ', 'ሐ', 'ी', 'ṵ', 'Á', 'ะ', 'َ', 'ˌ', 'к', 'ፍ', 'ⲓ', 'ś', 'ປ', 'И', 'ڌ', 'ɪ', 'ی', 'ん', '설', 'Ἄ', 'ὐ', 'ி', 'Φ', 'ɜ', 'ế', 'ú', 'ʀ', 'ܿ', 'ቃ', 'ኒ', '|', 'ል', 'ʃ', 'ി', 'ξ', '(', 'έ', 'ò']\n"
          ]
        }
      ]
    },
    {
      "cell_type": "code",
      "source": [
        "def text_cleaning(dataset: pd.DataFrame):\n",
        "    dataset['Evidence'] = dataset['Evidence'].transform(lambda x : re.sub('-LSB-?(.*?)-RSB-', '', x))\n",
        "    dataset['Evidence'] = dataset['Evidence'].transform(lambda x : x[x.find('\\t')+1 : x.find('.')] if x.find('.') > -1 else x[x.find('\\t')+1 : x.find('!')])\n",
        "    dataset['Evidence'] = dataset['Evidence'].transform(lambda x : re.sub('[^ABCDEFGHIJKLMNOPQRSTUVWXYZabcdefghijklmnopqrstuvwxyz.0123456789?!\\'\\- ]', '', x))\n",
        "    dataset['Evidence'] = dataset['Evidence'].transform(lambda x : x.replace('-LRB-', '')) # It deletes parenteses\n",
        "    dataset['Evidence'] = dataset['Evidence'].transform(lambda x : x.replace('-RRB-', ''))\n",
        "    dataset['Evidence'] = dataset['Evidence'].transform(lambda x : x.lower())\n",
        "    dataset['Evidence'] = dataset['Evidence'].transform(lambda x : re.sub(' +', ' ', x).strip())"
      ],
      "metadata": {
        "id": "cYyEY5KyrofD"
      },
      "execution_count": 90,
      "outputs": []
    },
    {
      "cell_type": "code",
      "metadata": {
        "id": "U9vhD-pnrVL2"
      },
      "source": [
        "text_cleaning(train_set)\n",
        "text_cleaning(val_set)\n",
        "text_cleaning(test_set)"
      ],
      "execution_count": 91,
      "outputs": []
    },
    {
      "cell_type": "code",
      "source": [
        "print(len(test_set))\n",
        "test_set.head()"
      ],
      "metadata": {
        "id": "ZcVxksGAslEf",
        "outputId": "81cca640-35df-485e-c332-c0dbdd396aa4",
        "colab": {
          "base_uri": "https://localhost:8080/",
          "height": 224
        }
      },
      "execution_count": null,
      "outputs": [
        {
          "output_type": "stream",
          "name": "stdout",
          "text": [
            "7189\n"
          ]
        },
        {
          "output_type": "execute_result",
          "data": {
            "text/html": [
              "<div>\n",
              "<style scoped>\n",
              "    .dataframe tbody tr th:only-of-type {\n",
              "        vertical-align: middle;\n",
              "    }\n",
              "\n",
              "    .dataframe tbody tr th {\n",
              "        vertical-align: top;\n",
              "    }\n",
              "\n",
              "    .dataframe thead th {\n",
              "        text-align: right;\n",
              "    }\n",
              "</style>\n",
              "<table border=\"1\" class=\"dataframe\">\n",
              "  <thead>\n",
              "    <tr style=\"text-align: right;\">\n",
              "      <th></th>\n",
              "      <th>Claim</th>\n",
              "      <th>Evidence</th>\n",
              "      <th>ID</th>\n",
              "      <th>Label</th>\n",
              "    </tr>\n",
              "  </thead>\n",
              "  <tbody>\n",
              "    <tr>\n",
              "      <th>0</th>\n",
              "      <td>Anxiety has been linked with physical symptoms.</td>\n",
              "      <td>Furthermore , anxiety has been linked with phy...</td>\n",
              "      <td>16387</td>\n",
              "      <td>SUPPORTS</td>\n",
              "    </tr>\n",
              "    <tr>\n",
              "      <th>1</th>\n",
              "      <td>Firefox is an application.</td>\n",
              "      <td>Mozilla Firefox  or simply Firefox  is a free ...</td>\n",
              "      <td>6</td>\n",
              "      <td>SUPPORTS</td>\n",
              "    </tr>\n",
              "    <tr>\n",
              "      <th>2</th>\n",
              "      <td>Keegan-Michael Key played President Barack Oba...</td>\n",
              "      <td>In 2015 , Key appeared at the White House Corr...</td>\n",
              "      <td>16392</td>\n",
              "      <td>SUPPORTS</td>\n",
              "    </tr>\n",
              "    <tr>\n",
              "      <th>3</th>\n",
              "      <td>Google Search can find stock quotes.</td>\n",
              "      <td>These include synonyms , weather forecasts , t...</td>\n",
              "      <td>16394</td>\n",
              "      <td>SUPPORTS</td>\n",
              "    </tr>\n",
              "    <tr>\n",
              "      <th>4</th>\n",
              "      <td>A Good Day to Die Hard was directed solely by ...</td>\n",
              "      <td>The film was directed by John Moore and writte...</td>\n",
              "      <td>98315</td>\n",
              "      <td>REFUTES</td>\n",
              "    </tr>\n",
              "  </tbody>\n",
              "</table>\n",
              "</div>"
            ],
            "text/plain": [
              "                                               Claim  ...     Label\n",
              "0    Anxiety has been linked with physical symptoms.  ...  SUPPORTS\n",
              "1                         Firefox is an application.  ...  SUPPORTS\n",
              "2  Keegan-Michael Key played President Barack Oba...  ...  SUPPORTS\n",
              "3               Google Search can find stock quotes.  ...  SUPPORTS\n",
              "4  A Good Day to Die Hard was directed solely by ...  ...   REFUTES\n",
              "\n",
              "[5 rows x 4 columns]"
            ]
          },
          "metadata": {},
          "execution_count": 34
        }
      ]
    },
    {
      "cell_type": "markdown",
      "source": [
        "# Dataset conversion"
      ],
      "metadata": {
        "id": "qYWaARzFq4Bo"
      }
    },
    {
      "cell_type": "code",
      "source": [
        "# class MyDataset(Dataset):\n",
        "#   def __init__(self, \n",
        "#                dataframe: pd.DataFrame,\n",
        "#                embedder: gensim.models.keyedvectors.KeyedVectors,\n",
        "#                sentence_length: int):\n",
        "#     self.sentence_length = sentence_length\n",
        "#     self.dataframe = dataframe\n",
        "#     self.embedding_size = embedding_size\n",
        "#     self.embedder = embedder\n",
        "\n",
        "#   def __len__(self):\n",
        "#     return len(self.dataframe)\n",
        "\n",
        "#   def __getitem__(self, idx):\n",
        "#     sentence = self.dataframe.get_group(idx)[:self.sentence_length]\n",
        "\n",
        "#     labels = np.array(sentence['label'], dtype = str).reshape(-1, 1)\n",
        "#     encoded_labels = self.encoder.transform(labels)\n",
        "#     encoded_words = self.embedder[sentence['word']]\n",
        "\n",
        "#     pad_amount = self.sentence_length - len(sentence)\n",
        "#     encoded_labels = np.pad(encoded_labels, pad_width=((0, pad_amount), (0,0)))\n",
        "#     encoded_words = np.pad(encoded_words, pad_width=((0, pad_amount), (0, 0)))\n",
        "\n",
        "#     return {'words': encoded_words, 'labels': encoded_labels, 'lengths': len(sentence)}\n",
        "\n",
        "\n",
        "# def load_glove_embedding(embedding_size=50) -> gensim.models.keyedvectors.KeyedVectors:\n",
        "#     download_path = f'glove-wiki-gigaword-{self.embedding_size}'\n",
        "\n",
        "#     try:\n",
        "#         emb_model = gloader.load(download_path)\n",
        "#     except ValueError as e:\n",
        "#         print(\"Invalid embedding model name! Check the embedding dimension:\")\n",
        "#         print(\"Glove: 50, 100, 200, 300\")\n",
        "#         raise e\n",
        "\n",
        "#     return emb_model\n",
        "\n",
        "# def add_OOV(emb_model: gensim.models.keyedvectors.KeyedVectors, words: List[str]):\n",
        "#     oov = set(words).difference(set(emb_model.vocab.keys()))\n",
        "#     oov_value = np.random.uniform(low=-0.05, high=0.05, size=(len(oov), self.embedding_size))\n",
        "#     emb_model.add(list(oov), oov_value)\n"
      ],
      "metadata": {
        "id": "c-qL2Vgkt_ey"
      },
      "execution_count": null,
      "outputs": []
    },
    {
      "cell_type": "code",
      "source": [
        ""
      ],
      "metadata": {
        "id": "subh0m33q6kW"
      },
      "execution_count": null,
      "outputs": []
    },
    {
      "cell_type": "markdown",
      "source": [
        "# Model definition"
      ],
      "metadata": {
        "id": "KDvJmIPAq7OV"
      }
    },
    {
      "cell_type": "markdown",
      "source": [
        "### Model Summary\n",
        "\n",
        "1. Input:\n",
        "\n",
        "    *    Claim: `[batch_size, max_tokens]`\n",
        "    *    Evidence: `[batch_size, max_tokens]`\n",
        "\n",
        "2. Word Embedding:\n",
        "\n",
        "    *    Claim: `[batch_size, max_tokens, embedding_dim]`\n",
        "    *    Evidence: `[batch_size, max_tokens, embedding_dim]`\n",
        "\n",
        "3. Sentence Embedding:\n",
        "    * Possible solutions:\n",
        "\n",
        "        1.   Encode token sequences via a RNN and take the last state as the sentence embedding.\n",
        "\n",
        "        2.  Encode token sequences via a RNN and average all the output states.\n",
        "\n",
        "        3.  Encode token sequences via a simple MLP layer. In particular, if your input is a `[batch_size, max_tokens, embedding_dim]` tensor, the matrix multiplication works on the **max_tokens** dimension, resulting in a `[batch_size, embedding_dim]` 2D matrix. Alternatively, you can reshape the 3D input tensor from `[batch_size, max_tokens, embedding_dim]` to `[batch_size, max_tokens * embedding_dim]` and then apply the MLP layer.\n",
        "\n",
        "        4.   Compute the sentence embedding as the mean of its token embeddings (**bag of vectors**).\n",
        "\n",
        "    *    Claim: `[batch_size, embedding_dim]`\n",
        "    *    Evidence: `[batch_size, embedding_dim]`\n",
        "\n",
        "4. Merging multi-inputs:\n",
        "\n",
        "    * **Concatenation**: define the classification input as the concatenation of evidence and claim sentence embeddings: `[batch_size, 2 * embedding_dim]`\n",
        "\n",
        "    *     **Sum**: define the classification input as the sum of evidence and claim sentence embeddings: `[batch_size, embedding_dim]`\n",
        "\n",
        "    *     **Mean**: define the classification input as the mean of evidence and claim sentence embeddings: `[batch_size, embedding_dim]`\n",
        "\n",
        "5. Extension (Cosine Similarity between sentences embeddigs):\n",
        "\n",
        "    *     **Concatenation**: `[batch_size, 2 * embedding_dim + 1]`\n",
        "\n",
        "    *     **Sum**: `[batch_size, embedding_dim + 1]`\n",
        "\n",
        "    *     **Mean**: `[batch_size, embedding_dim + 1]`\n",
        "\n",
        "6. Classification:     \n",
        "\n",
        "    * Output: `[batch_size, 2]`\n"
      ],
      "metadata": {
        "id": "OhLxfbDdvBlb"
      }
    },
    {
      "cell_type": "code",
      "source": [
        "class FactCheckingModel(nn.Module):\n",
        "    def __init__(self, \n",
        "                 max_tokens: int, \n",
        "                 embedding_dim: int, \n",
        "                 sentence_embedding_config: Dict[str, Any],\n",
        "                 merging_config: str,\n",
        "                 classifier_config: Dict[str, Any],\n",
        "                 add_cosine_similarity = False\n",
        "                 ):\n",
        "        self.max_tokens = max_tokens\n",
        "        self.embedding_dim = embedding_dim\n",
        "        self.claim_embedding = self._get_sentence_embedding(sentence_embedding_config)\n",
        "        self.evidence_embedding = self._get_sentence_embedding(sentence_embedding_config)\n",
        "        self.merging = self._get_merging(merging_config, add_cosine_similarity)\n",
        "        self.classifier = self._add_classifier(classifier_config)\n",
        "    \n",
        "    def _get_sentence_embedding(self, config: Dict[str, Any]) -> Callable[[torch.Tensor], torch.Tensor]:\n",
        "        \"\"\"\n",
        "        config: Dict[str, Any]: \n",
        "            keys: possible values\n",
        "            'type' : 'rnn_last': Encode token sequences via a RNN and take the last state as the sentence embedding.\n",
        "                     'rnn_mean': Encode token sequences via a RNN and average all the output states\n",
        "                     'mpl': Encode token sequences via a simple MLP layer\n",
        "                     'bov': Compute the sentence embedding as the mean of its token embeddings (bag of vectors).\n",
        "            'hidden_size': (int) dimensions of the layer for the rnn or the mlp\n",
        "            ...\n",
        "        \"\"\"\n",
        "\n",
        "    def _get_merging(self, config: str, cosine: bool) -> Callable[[torch.Tensor, torch.Tensor], torch.Tensor]:\n",
        "        \"\"\"\n",
        "        config: str: define how to handle the merging of claim and evidence embeddign \n",
        "            possible values\n",
        "            'concat'\n",
        "            'sum'\n",
        "            'mean'\n",
        "        \"\"\"\n",
        "        if config == 'concat':\n",
        "            if cosine:\n",
        "                return lambda claim, evidence: torch.cat([claim, evidence, nn.functional.cosine_similarity(claim, evidence).unsqueeze(1)], dim=1)\n",
        "            else:\n",
        "                return lambda claim, evidence: torch.cat([claim, evidence], dim=1)\n",
        "        \n",
        "        elif config == 'sum':\n",
        "            if cosine:\n",
        "                return lambda claim, evidence: torch.cat([claim + evidence, nn.functional.cosine_similarity(claim, evidence).unsqueeze(1)], dim=1)\n",
        "            else:\n",
        "                return lambda claim, evidence: claim + evidence\n",
        "\n",
        "        elif config == 'mean':\n",
        "            if cosine:\n",
        "                return lambda claim, evidence: torch.cat([(claim + evidence) / 2, nn.functional.cosine_similarity(claim, evidence).unsqueeze(1)], dim=1)\n",
        "            else:\n",
        "                return lambda claim, evidence: (claim + evidence) / 2\n",
        "    \n",
        "    def _add_classifier(self, config: Dict[str, Any]) -> Callable[[torch.Tensor], torch.Tensor]:\n",
        "        \"\"\"\n",
        "        Define the classifier\n",
        "        \"\"\"\n",
        "\n",
        "    def forward(self, inputs):\n",
        "        # TODO: per ora è più uno pseudocodice, non so se funzionerebbe\n",
        "        claims, evidences = inputs\n",
        "        c = self.claim_embedding(claims)\n",
        "        e = self.evidence_embedding(evidences)\n",
        "\n",
        "        s = self.merging(c, e)\n",
        "\n",
        "        return self.classifier(s)"
      ],
      "metadata": {
        "id": "2WBMo0PJ8CE8"
      },
      "execution_count": null,
      "outputs": []
    },
    {
      "cell_type": "code",
      "source": [
        "model = FactCheckingModel(0, 0, {}, 'concat', {}, True)\n",
        "\n",
        "input1 = torch.randn(2, 3)\n",
        "input2 = torch.randn(2, 3)\n",
        "output = model.merging(input1, input2)\n",
        "print(input1)\n",
        "print(input2)\n",
        "print(nn.functional.cosine_similarity(input1, input2).unsqueeze(1))\n",
        "print(output)"
      ],
      "metadata": {
        "id": "MpJsIC6sGoFk",
        "outputId": "e6176cee-414a-4bf7-82ce-b4e7dbae53a0",
        "colab": {
          "base_uri": "https://localhost:8080/"
        }
      },
      "execution_count": null,
      "outputs": [
        {
          "output_type": "stream",
          "name": "stdout",
          "text": [
            "tensor([[ 1.3325, -0.6733,  0.9161],\n",
            "        [ 0.3463, -0.6752,  1.8075]])\n",
            "tensor([[-0.1733,  0.6674, -1.1476],\n",
            "        [-1.7233,  1.0575, -0.1877]])\n",
            "tensor([[-0.7384],\n",
            "        [-0.4146]])\n",
            "tensor([[ 1.3325, -0.6733,  0.9161, -0.1733,  0.6674, -1.1476, -0.7384],\n",
            "        [ 0.3463, -0.6752,  1.8075, -1.7233,  1.0575, -0.1877, -0.4146]])\n"
          ]
        }
      ]
    },
    {
      "cell_type": "code",
      "source": [
        "# class LSTM(nn.Module):\n",
        "#   def __init__(self, input_dim, hidden_size, output_size, layers, dropout, device):\n",
        "#     super(LSTM, self).__init__()\n",
        "#     self.n_layers = layers\n",
        "#     self.output_size = output_size\n",
        "#     self.hidden_size = hidden_size\n",
        "#     self.device = device\n",
        "#     self.lstm = nn.LSTM(input_dim, hidden_size, num_layers=self.n_layers, dropout=dropout, bidirectional=True)\n",
        "#     self.fc = nn.Linear(self.hidden_size*2, output_size)\n",
        "\n",
        "\n",
        "#   def forward(self, input):\n",
        "#     input = input.permute(1, 0, 2)\n",
        "\n",
        "#     #initialize hidden state and cell state\n",
        "#     hidden = (torch.randn(self.n_layers*2, input.shape[1],\n",
        "#                           self.hidden_size).to(self.device),\n",
        "#               torch.randn(self.n_layers*2, input.shape[1],\n",
        "#                           self.hidden_size).to(self.device))\n",
        "\n",
        "\n",
        "#     out, hidden = self.lstm(input, hidden)\n",
        "\n",
        "#     #process timesteps independently \n",
        "#     logits = self.fc(out.view(-1, out.size(2)))\n",
        "\n",
        "#     return logits.view(input.shape[1], input.shape[0], self.output_size)"
      ],
      "metadata": {
        "id": "iFcLQQKsq-aw"
      },
      "execution_count": null,
      "outputs": []
    },
    {
      "cell_type": "markdown",
      "source": [
        "# Training"
      ],
      "metadata": {
        "id": "T5mTclRAq_C0"
      }
    },
    {
      "cell_type": "code",
      "source": [
        ""
      ],
      "metadata": {
        "id": "ZO1RzpK-rAxh"
      },
      "execution_count": null,
      "outputs": []
    },
    {
      "cell_type": "markdown",
      "source": [
        "# Evaluation"
      ],
      "metadata": {
        "id": "DVOk9cxlrG65"
      }
    },
    {
      "cell_type": "code",
      "source": [
        ""
      ],
      "metadata": {
        "id": "5Qcj86KzrIRS"
      },
      "execution_count": null,
      "outputs": []
    },
    {
      "cell_type": "markdown",
      "source": [
        "# Comments/Summary"
      ],
      "metadata": {
        "id": "t-qoILrWrIvO"
      }
    },
    {
      "cell_type": "code",
      "source": [
        ""
      ],
      "metadata": {
        "id": "6jV9hxUMrJ07"
      },
      "execution_count": null,
      "outputs": []
    }
  ]
}